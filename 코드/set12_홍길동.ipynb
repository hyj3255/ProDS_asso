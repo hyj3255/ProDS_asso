{
 "cells": [
  {
   "cell_type": "code",
   "execution_count": 1,
   "id": "801c54e1-9bf6-4933-bae6-15668b8b1a17",
   "metadata": {},
   "outputs": [],
   "source": [
    "import pandas as pd\n",
    "import numpy as np"
   ]
  },
  {
   "cell_type": "code",
   "execution_count": 3,
   "id": "0fd42f83-4995-4148-85db-704498a1a33d",
   "metadata": {},
   "outputs": [
    {
     "data": {
      "text/html": [
       "<div>\n",
       "<style scoped>\n",
       "    .dataframe tbody tr th:only-of-type {\n",
       "        vertical-align: middle;\n",
       "    }\n",
       "\n",
       "    .dataframe tbody tr th {\n",
       "        vertical-align: top;\n",
       "    }\n",
       "\n",
       "    .dataframe thead th {\n",
       "        text-align: right;\n",
       "    }\n",
       "</style>\n",
       "<table border=\"1\" class=\"dataframe\">\n",
       "  <thead>\n",
       "    <tr style=\"text-align: right;\">\n",
       "      <th></th>\n",
       "      <th>Age</th>\n",
       "      <th>Gender</th>\n",
       "      <th>Dependent_Count</th>\n",
       "      <th>Education_Level</th>\n",
       "      <th>is_Married</th>\n",
       "      <th>Read_Book_per_Year</th>\n",
       "      <th>Income_Range</th>\n",
       "    </tr>\n",
       "  </thead>\n",
       "  <tbody>\n",
       "    <tr>\n",
       "      <th>0</th>\n",
       "      <td>52</td>\n",
       "      <td>M</td>\n",
       "      <td>2</td>\n",
       "      <td>석사</td>\n",
       "      <td>1</td>\n",
       "      <td>45</td>\n",
       "      <td>D</td>\n",
       "    </tr>\n",
       "    <tr>\n",
       "      <th>1</th>\n",
       "      <td>46</td>\n",
       "      <td>F</td>\n",
       "      <td>4</td>\n",
       "      <td>박사</td>\n",
       "      <td>1</td>\n",
       "      <td>26</td>\n",
       "      <td>X</td>\n",
       "    </tr>\n",
       "    <tr>\n",
       "      <th>2</th>\n",
       "      <td>53</td>\n",
       "      <td>F</td>\n",
       "      <td>0</td>\n",
       "      <td>석사</td>\n",
       "      <td>0</td>\n",
       "      <td>48</td>\n",
       "      <td>A</td>\n",
       "    </tr>\n",
       "  </tbody>\n",
       "</table>\n",
       "</div>"
      ],
      "text/plain": [
       "   Age Gender  Dependent_Count Education_Level  is_Married  \\\n",
       "0   52      M                2              석사           1   \n",
       "1   46      F                4              박사           1   \n",
       "2   53      F                0              석사           0   \n",
       "\n",
       "   Read_Book_per_Year Income_Range  \n",
       "0                  45            D  \n",
       "1                  26            X  \n",
       "2                  48            A  "
      ]
     },
     "execution_count": 3,
     "metadata": {},
     "output_type": "execute_result"
    }
   ],
   "source": [
    "dat12=pd.read_csv('dataset/Dataset_12.csv')\n",
    "dat12.head(3)"
   ]
  },
  {
   "cell_type": "code",
   "execution_count": 4,
   "id": "3787afda-465d-4110-8ca1-8e847e3f00ab",
   "metadata": {},
   "outputs": [
    {
     "name": "stdout",
     "output_type": "stream",
     "text": [
      "<class 'pandas.core.frame.DataFrame'>\n",
      "RangeIndex: 5000 entries, 0 to 4999\n",
      "Data columns (total 7 columns):\n",
      " #   Column              Non-Null Count  Dtype \n",
      "---  ------              --------------  ----- \n",
      " 0   Age                 5000 non-null   int64 \n",
      " 1   Gender              5000 non-null   object\n",
      " 2   Dependent_Count     5000 non-null   int64 \n",
      " 3   Education_Level     5000 non-null   object\n",
      " 4   is_Married          5000 non-null   int64 \n",
      " 5   Read_Book_per_Year  5000 non-null   int64 \n",
      " 6   Income_Range        5000 non-null   object\n",
      "dtypes: int64(4), object(3)\n",
      "memory usage: 273.6+ KB\n"
     ]
    }
   ],
   "source": [
    "dat12.info()"
   ]
  },
  {
   "cell_type": "code",
   "execution_count": 5,
   "id": "1259a083-a97a-495d-8b17-7e27e058c90b",
   "metadata": {},
   "outputs": [
    {
     "data": {
      "text/plain": [
       "Education_Level\n",
       "석사    2349\n",
       "고졸    1534\n",
       "학사     775\n",
       "박사     342\n",
       "Name: count, dtype: int64"
      ]
     },
     "execution_count": 5,
     "metadata": {},
     "output_type": "execute_result"
    }
   ],
   "source": [
    "dat12.Education_Level.value_counts()"
   ]
  },
  {
   "cell_type": "code",
   "execution_count": 6,
   "id": "84601264-8808-4fe4-9eba-90fa88e7527b",
   "metadata": {},
   "outputs": [
    {
     "data": {
      "text/plain": [
       "Income_Range\n",
       "A    1768\n",
       "B     862\n",
       "D     778\n",
       "C     688\n",
       "X     548\n",
       "E     356\n",
       "Name: count, dtype: int64"
      ]
     },
     "execution_count": 6,
     "metadata": {},
     "output_type": "execute_result"
    }
   ],
   "source": [
    "dat12.Income_Range.value_counts()"
   ]
  },
  {
   "cell_type": "code",
   "execution_count": 7,
   "id": "4c654550-ef42-49ca-b004-62f416754bf7",
   "metadata": {},
   "outputs": [
    {
     "data": {
      "text/plain": [
       "array(['D', 'X', 'A', 'B', 'C', 'E'], dtype=object)"
      ]
     },
     "execution_count": 7,
     "metadata": {},
     "output_type": "execute_result"
    }
   ],
   "source": [
    "dat12.Income_Range.unique()"
   ]
  },
  {
   "cell_type": "code",
   "execution_count": null,
   "id": "48a1856c-c459-4adf-b658-ec590da5853e",
   "metadata": {},
   "outputs": [],
   "source": [
    "# Q1"
   ]
  },
  {
   "cell_type": "code",
   "execution_count": 8,
   "id": "f438b0c2-1119-4e86-a14f-1993bdf36923",
   "metadata": {},
   "outputs": [
    {
     "data": {
      "text/plain": [
       "Age                    int64\n",
       "Gender                object\n",
       "Dependent_Count        int64\n",
       "Education_Level       object\n",
       "is_Married             int64\n",
       "Read_Book_per_Year     int64\n",
       "Income_Range          object\n",
       "dtype: object"
      ]
     },
     "execution_count": 8,
     "metadata": {},
     "output_type": "execute_result"
    }
   ],
   "source": [
    "dat12.dtypes"
   ]
  },
  {
   "cell_type": "code",
   "execution_count": 11,
   "id": "55c1e67a-12c9-422f-8447-d4377c5837bc",
   "metadata": {},
   "outputs": [
    {
     "data": {
      "text/plain": [
       "Index(['Age', 'Dependent_Count', 'is_Married', 'Read_Book_per_Year'], dtype='object')"
      ]
     },
     "execution_count": 11,
     "metadata": {},
     "output_type": "execute_result"
    }
   ],
   "source": [
    "# q1_list=['Age', 'Dependent_Count', 'is_Married', 'Read_Book_per_Year']\n",
    "q1_list= dat12.columns[dat12.dtypes != 'object']\n",
    "q1_list"
   ]
  },
  {
   "cell_type": "code",
   "execution_count": 13,
   "id": "559af77a-a74d-4738-be67-20410dbed758",
   "metadata": {},
   "outputs": [
    {
     "data": {
      "text/plain": [
       "Age                   0.796843\n",
       "Dependent_Count      -0.132591\n",
       "is_Married            0.027221\n",
       "Read_Book_per_Year    1.000000\n",
       "Name: Read_Book_per_Year, dtype: float64"
      ]
     },
     "execution_count": 13,
     "metadata": {},
     "output_type": "execute_result"
    }
   ],
   "source": [
    "dat12[q1_list].corr()['Read_Book_per_Year']  # 답: Age"
   ]
  },
  {
   "cell_type": "code",
   "execution_count": 14,
   "id": "1d9a2d23-5060-43e6-849e-b76aa0010abe",
   "metadata": {},
   "outputs": [],
   "source": [
    "# Q2"
   ]
  },
  {
   "cell_type": "code",
   "execution_count": 16,
   "id": "b68f81a4-1cf9-49d5-9a10-990bd14aa99a",
   "metadata": {},
   "outputs": [
    {
     "data": {
      "text/plain": [
       "(2691, 2309)"
      ]
     },
     "execution_count": 16,
     "metadata": {},
     "output_type": "execute_result"
    }
   ],
   "source": [
    "q2_h = dat12[dat12.Education_Level.isin(['석사', '박사'])]['Read_Book_per_Year']\n",
    "q2_l = dat12[~dat12.Education_Level.isin(['석사', '박사'])]['Read_Book_per_Year']\n",
    "len(q2_h), len(q2_l)"
   ]
  },
  {
   "cell_type": "code",
   "execution_count": 17,
   "id": "57363a66-ac6a-4f02-a226-befe408475d7",
   "metadata": {},
   "outputs": [],
   "source": [
    "from scipy.stats import ttest_ind"
   ]
  },
  {
   "cell_type": "code",
   "execution_count": 19,
   "id": "83d39c1a-a4d4-4448-9035-e8f9eca0cb3d",
   "metadata": {},
   "outputs": [
    {
     "data": {
      "text/plain": [
       "0.26855892298971373"
      ]
     },
     "execution_count": 19,
     "metadata": {},
     "output_type": "execute_result"
    }
   ],
   "source": [
    "q2_t_out=ttest_ind(q2_h, q2_l)  # 답 0.269\n",
    "q2_t_out.pvalue"
   ]
  },
  {
   "cell_type": "code",
   "execution_count": 20,
   "id": "0cb48568-da68-40e3-a7dc-7e09e1f73a58",
   "metadata": {},
   "outputs": [],
   "source": [
    "# Q3"
   ]
  },
  {
   "cell_type": "code",
   "execution_count": 21,
   "id": "6e4f007b-4457-45ab-9bba-d0214dc168e1",
   "metadata": {},
   "outputs": [],
   "source": [
    "from statsmodels.formula.api import ols"
   ]
  },
  {
   "cell_type": "code",
   "execution_count": 22,
   "id": "4b26ba3d-c940-4f21-ade8-deb5091923ed",
   "metadata": {},
   "outputs": [],
   "source": [
    "q3 = dat12[(dat12.Education_Level != '고졸') & (dat12.Income_Range != 'X')]"
   ]
  },
  {
   "cell_type": "code",
   "execution_count": 23,
   "id": "ba16f1d4-93cf-4785-bf3e-8b20fb120332",
   "metadata": {},
   "outputs": [],
   "source": [
    "q3_ols=ols('Read_Book_per_Year~Age+Dependent_Count+is_Married', data=q3).fit()"
   ]
  },
  {
   "cell_type": "code",
   "execution_count": 24,
   "id": "4b69dd8b-717f-477f-809d-0d5869266928",
   "metadata": {},
   "outputs": [
    {
     "data": {
      "text/plain": [
       "Intercept         -0.382146\n",
       "Age                0.796440\n",
       "Dependent_Count   -0.250269\n",
       "is_Married         0.049624\n",
       "dtype: float64"
      ]
     },
     "execution_count": 24,
     "metadata": {},
     "output_type": "execute_result"
    }
   ],
   "source": [
    "q3_ols.params"
   ]
  },
  {
   "cell_type": "code",
   "execution_count": 27,
   "id": "7fe2fdb8-b16b-4549-aa27-b1351058d49a",
   "metadata": {},
   "outputs": [
    {
     "data": {
      "text/plain": [
       "8.0"
      ]
     },
     "execution_count": 27,
     "metadata": {},
     "output_type": "execute_result"
    }
   ],
   "source": [
    "round(q3_ols.params['Age'] * (40-30),0)  # 답 8"
   ]
  },
  {
   "cell_type": "code",
   "execution_count": null,
   "id": "d029e4d2-bd1a-4cb7-afdc-87acd9d5f79c",
   "metadata": {},
   "outputs": [],
   "source": []
  }
 ],
 "metadata": {
  "kernelspec": {
   "display_name": "Python 3 (ipykernel)",
   "language": "python",
   "name": "python3"
  },
  "language_info": {
   "codemirror_mode": {
    "name": "ipython",
    "version": 3
   },
   "file_extension": ".py",
   "mimetype": "text/x-python",
   "name": "python",
   "nbconvert_exporter": "python",
   "pygments_lexer": "ipython3",
   "version": "3.12.7"
  }
 },
 "nbformat": 4,
 "nbformat_minor": 5
}
