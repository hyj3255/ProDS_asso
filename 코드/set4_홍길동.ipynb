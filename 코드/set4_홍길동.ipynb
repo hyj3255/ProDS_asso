{
 "cells": [
  {
   "cell_type": "code",
   "execution_count": 1,
   "id": "ec9b94e6-2c7c-411e-9c81-bafc7718c26d",
   "metadata": {},
   "outputs": [],
   "source": [
    "import pandas as pd\n",
    "import numpy as np"
   ]
  },
  {
   "cell_type": "code",
   "execution_count": 2,
   "id": "1fe58223-c056-43d9-9b76-893c34eb67f0",
   "metadata": {},
   "outputs": [
    {
     "data": {
      "text/plain": [
       "'2.2.2'"
      ]
     },
     "execution_count": 2,
     "metadata": {},
     "output_type": "execute_result"
    }
   ],
   "source": [
    "pd.__version__"
   ]
  },
  {
   "cell_type": "code",
   "execution_count": 3,
   "id": "ca147425-3652-47ad-b82e-f032d69e2dcc",
   "metadata": {},
   "outputs": [
    {
     "data": {
      "text/html": [
       "<div>\n",
       "<style scoped>\n",
       "    .dataframe tbody tr th:only-of-type {\n",
       "        vertical-align: middle;\n",
       "    }\n",
       "\n",
       "    .dataframe tbody tr th {\n",
       "        vertical-align: top;\n",
       "    }\n",
       "\n",
       "    .dataframe thead th {\n",
       "        text-align: right;\n",
       "    }\n",
       "</style>\n",
       "<table border=\"1\" class=\"dataframe\">\n",
       "  <thead>\n",
       "    <tr style=\"text-align: right;\">\n",
       "      <th></th>\n",
       "      <th>LOCATION</th>\n",
       "      <th>SUBJECT</th>\n",
       "      <th>TIME</th>\n",
       "      <th>Value</th>\n",
       "    </tr>\n",
       "  </thead>\n",
       "  <tbody>\n",
       "    <tr>\n",
       "      <th>0</th>\n",
       "      <td>AUS</td>\n",
       "      <td>BEEF</td>\n",
       "      <td>1991</td>\n",
       "      <td>27.721815</td>\n",
       "    </tr>\n",
       "    <tr>\n",
       "      <th>1</th>\n",
       "      <td>AUS</td>\n",
       "      <td>BEEF</td>\n",
       "      <td>1992</td>\n",
       "      <td>26.199591</td>\n",
       "    </tr>\n",
       "    <tr>\n",
       "      <th>2</th>\n",
       "      <td>AUS</td>\n",
       "      <td>BEEF</td>\n",
       "      <td>1993</td>\n",
       "      <td>26.169094</td>\n",
       "    </tr>\n",
       "  </tbody>\n",
       "</table>\n",
       "</div>"
      ],
      "text/plain": [
       "  LOCATION SUBJECT  TIME      Value\n",
       "0      AUS    BEEF  1991  27.721815\n",
       "1      AUS    BEEF  1992  26.199591\n",
       "2      AUS    BEEF  1993  26.169094"
      ]
     },
     "execution_count": 3,
     "metadata": {},
     "output_type": "execute_result"
    }
   ],
   "source": [
    "dat4=pd.read_csv('dataset/Dataset_04.csv')\n",
    "dat4.head(3)"
   ]
  },
  {
   "cell_type": "code",
   "execution_count": 4,
   "id": "86053660-35f2-4f22-9d1b-0de44df22a23",
   "metadata": {},
   "outputs": [
    {
     "name": "stdout",
     "output_type": "stream",
     "text": [
      "<class 'pandas.core.frame.DataFrame'>\n",
      "RangeIndex: 6718 entries, 0 to 6717\n",
      "Data columns (total 4 columns):\n",
      " #   Column    Non-Null Count  Dtype  \n",
      "---  ------    --------------  -----  \n",
      " 0   LOCATION  6718 non-null   object \n",
      " 1   SUBJECT   6718 non-null   object \n",
      " 2   TIME      6718 non-null   int64  \n",
      " 3   Value     6718 non-null   float64\n",
      "dtypes: float64(1), int64(1), object(2)\n",
      "memory usage: 210.1+ KB\n"
     ]
    }
   ],
   "source": [
    "dat4.info()"
   ]
  },
  {
   "cell_type": "code",
   "execution_count": 6,
   "id": "3ac61fb2-eeb0-497a-af49-2c92af64b096",
   "metadata": {},
   "outputs": [
    {
     "data": {
      "text/plain": [
       "0       False\n",
       "1       False\n",
       "2       False\n",
       "3       False\n",
       "4       False\n",
       "        ...  \n",
       "6713    False\n",
       "6714    False\n",
       "6715    False\n",
       "6716    False\n",
       "6717    False\n",
       "Name: LOCATION, Length: 6718, dtype: bool"
      ]
     },
     "execution_count": 6,
     "metadata": {},
     "output_type": "execute_result"
    }
   ],
   "source": [
    "# Q1\n",
    "dat4.LOCATION == 'KOR'"
   ]
  },
  {
   "cell_type": "code",
   "execution_count": 8,
   "id": "6fca1ce6-38a0-4f59-95b1-06cb31953d50",
   "metadata": {},
   "outputs": [
    {
     "data": {
      "text/plain": [
       "LOCATION\n",
       "IND      148\n",
       "PRY      148\n",
       "IRN      148\n",
       "ISR      148\n",
       "CAN      148\n",
       "MYS      148\n",
       "MOZ      148\n",
       "NGA      148\n",
       "PAK      148\n",
       "PER      148\n",
       "URY      148\n",
       "PHL      148\n",
       "ZMB      148\n",
       "SAU      148\n",
       "ZAF      148\n",
       "SDN      148\n",
       "TZA      148\n",
       "THA      148\n",
       "IDN      148\n",
       "VNM      148\n",
       "HTI      148\n",
       "MEX      148\n",
       "SSA      148\n",
       "EGY      148\n",
       "COL      148\n",
       "JPN      148\n",
       "CHL      148\n",
       "BRA      148\n",
       "BGD      148\n",
       "GHA      148\n",
       "DZA      148\n",
       "USA      148\n",
       "TUR      148\n",
       "NZL      148\n",
       "ARG      147\n",
       "CHN      147\n",
       "KOR      146\n",
       "AUS      146\n",
       "KAZ      140\n",
       "UKR      140\n",
       "RUS      139\n",
       "BRICS    139\n",
       "EU28     138\n",
       "OECD     137\n",
       "ETH      136\n",
       "WLD      131\n",
       "Name: count, dtype: int64"
      ]
     },
     "execution_count": 8,
     "metadata": {},
     "output_type": "execute_result"
    }
   ],
   "source": [
    "dat4.LOCATION.value_counts()"
   ]
  },
  {
   "cell_type": "code",
   "execution_count": 9,
   "id": "1b318880-7fbd-4004-be0a-092b34af9397",
   "metadata": {},
   "outputs": [
    {
     "data": {
      "text/plain": [
       "0       False\n",
       "1       False\n",
       "2       False\n",
       "3       False\n",
       "4       False\n",
       "        ...  \n",
       "6713    False\n",
       "6714    False\n",
       "6715    False\n",
       "6716    False\n",
       "6717    False\n",
       "Name: LOCATION, Length: 6718, dtype: bool"
      ]
     },
     "execution_count": 9,
     "metadata": {},
     "output_type": "execute_result"
    }
   ],
   "source": [
    "(dat4.LOCATION == 'KOR') | (dat4.LOCATION == 'JPN')"
   ]
  },
  {
   "cell_type": "code",
   "execution_count": 11,
   "id": "68cd8211-8bcd-4019-bc1d-8f93d5e5bd6c",
   "metadata": {},
   "outputs": [
    {
     "data": {
      "text/plain": [
       "0       False\n",
       "1       False\n",
       "2       False\n",
       "3       False\n",
       "4       False\n",
       "        ...  \n",
       "6713    False\n",
       "6714    False\n",
       "6715    False\n",
       "6716    False\n",
       "6717    False\n",
       "Name: LOCATION, Length: 6718, dtype: bool"
      ]
     },
     "execution_count": 11,
     "metadata": {},
     "output_type": "execute_result"
    }
   ],
   "source": [
    "dat4.LOCATION.isin(['KOR','JPN'])"
   ]
  },
  {
   "cell_type": "code",
   "execution_count": 13,
   "id": "db47e424-9c8e-4170-b8f4-82d06c003fb5",
   "metadata": {},
   "outputs": [
    {
     "data": {
      "text/html": [
       "<div>\n",
       "<style scoped>\n",
       "    .dataframe tbody tr th:only-of-type {\n",
       "        vertical-align: middle;\n",
       "    }\n",
       "\n",
       "    .dataframe tbody tr th {\n",
       "        vertical-align: top;\n",
       "    }\n",
       "\n",
       "    .dataframe thead th {\n",
       "        text-align: right;\n",
       "    }\n",
       "</style>\n",
       "<table border=\"1\" class=\"dataframe\">\n",
       "  <thead>\n",
       "    <tr style=\"text-align: right;\">\n",
       "      <th></th>\n",
       "      <th>LOCATION</th>\n",
       "      <th>SUBJECT</th>\n",
       "      <th>TIME</th>\n",
       "      <th>Value</th>\n",
       "    </tr>\n",
       "  </thead>\n",
       "  <tbody>\n",
       "    <tr>\n",
       "      <th>442</th>\n",
       "      <td>KOR</td>\n",
       "      <td>BEEF</td>\n",
       "      <td>1991</td>\n",
       "      <td>5.085481</td>\n",
       "    </tr>\n",
       "    <tr>\n",
       "      <th>443</th>\n",
       "      <td>KOR</td>\n",
       "      <td>BEEF</td>\n",
       "      <td>1992</td>\n",
       "      <td>5.685434</td>\n",
       "    </tr>\n",
       "    <tr>\n",
       "      <th>444</th>\n",
       "      <td>KOR</td>\n",
       "      <td>BEEF</td>\n",
       "      <td>1993</td>\n",
       "      <td>5.325765</td>\n",
       "    </tr>\n",
       "    <tr>\n",
       "      <th>445</th>\n",
       "      <td>KOR</td>\n",
       "      <td>BEEF</td>\n",
       "      <td>1994</td>\n",
       "      <td>5.698819</td>\n",
       "    </tr>\n",
       "    <tr>\n",
       "      <th>446</th>\n",
       "      <td>KOR</td>\n",
       "      <td>BEEF</td>\n",
       "      <td>1995</td>\n",
       "      <td>6.568429</td>\n",
       "    </tr>\n",
       "    <tr>\n",
       "      <th>...</th>\n",
       "      <td>...</td>\n",
       "      <td>...</td>\n",
       "      <td>...</td>\n",
       "      <td>...</td>\n",
       "    </tr>\n",
       "    <tr>\n",
       "      <th>583</th>\n",
       "      <td>KOR</td>\n",
       "      <td>SHEEP</td>\n",
       "      <td>2022</td>\n",
       "      <td>0.197951</td>\n",
       "    </tr>\n",
       "    <tr>\n",
       "      <th>584</th>\n",
       "      <td>KOR</td>\n",
       "      <td>SHEEP</td>\n",
       "      <td>2023</td>\n",
       "      <td>0.199098</td>\n",
       "    </tr>\n",
       "    <tr>\n",
       "      <th>585</th>\n",
       "      <td>KOR</td>\n",
       "      <td>SHEEP</td>\n",
       "      <td>2024</td>\n",
       "      <td>0.200266</td>\n",
       "    </tr>\n",
       "    <tr>\n",
       "      <th>586</th>\n",
       "      <td>KOR</td>\n",
       "      <td>SHEEP</td>\n",
       "      <td>2025</td>\n",
       "      <td>0.201451</td>\n",
       "    </tr>\n",
       "    <tr>\n",
       "      <th>587</th>\n",
       "      <td>KOR</td>\n",
       "      <td>SHEEP</td>\n",
       "      <td>2026</td>\n",
       "      <td>0.202656</td>\n",
       "    </tr>\n",
       "  </tbody>\n",
       "</table>\n",
       "<p>146 rows × 4 columns</p>\n",
       "</div>"
      ],
      "text/plain": [
       "    LOCATION SUBJECT  TIME     Value\n",
       "442      KOR    BEEF  1991  5.085481\n",
       "443      KOR    BEEF  1992  5.685434\n",
       "444      KOR    BEEF  1993  5.325765\n",
       "445      KOR    BEEF  1994  5.698819\n",
       "446      KOR    BEEF  1995  6.568429\n",
       "..       ...     ...   ...       ...\n",
       "583      KOR   SHEEP  2022  0.197951\n",
       "584      KOR   SHEEP  2023  0.199098\n",
       "585      KOR   SHEEP  2024  0.200266\n",
       "586      KOR   SHEEP  2025  0.201451\n",
       "587      KOR   SHEEP  2026  0.202656\n",
       "\n",
       "[146 rows x 4 columns]"
      ]
     },
     "execution_count": 13,
     "metadata": {},
     "output_type": "execute_result"
    }
   ],
   "source": [
    "q1=dat4[dat4.LOCATION == 'KOR']\n",
    "q1"
   ]
  },
  {
   "cell_type": "code",
   "execution_count": 14,
   "id": "e1d09704-e0b1-43e4-95b9-757d656c95b0",
   "metadata": {},
   "outputs": [],
   "source": [
    "q1_gr=q1.groupby('TIME')"
   ]
  },
  {
   "cell_type": "code",
   "execution_count": 15,
   "id": "f4bf6fd8-a4bf-4adf-b59b-572dc1688b5c",
   "metadata": {},
   "outputs": [
    {
     "data": {
      "text/plain": [
       "<pandas.core.groupby.generic.DataFrameGroupBy object at 0x0000012B0FC6EC60>"
      ]
     },
     "execution_count": 15,
     "metadata": {},
     "output_type": "execute_result"
    }
   ],
   "source": [
    "q1_gr"
   ]
  },
  {
   "cell_type": "code",
   "execution_count": 16,
   "id": "86765095-184d-46cc-969b-a22e86c5d41d",
   "metadata": {},
   "outputs": [
    {
     "data": {
      "text/plain": [
       "{1990: [514, 551], 1991: [442, 478, 515, 552], 1992: [443, 479, 516, 553], 1993: [444, 480, 517, 554], 1994: [445, 481, 518, 555], 1995: [446, 482, 519, 556], 1996: [447, 483, 520, 557], 1997: [448, 484, 521, 558], 1998: [449, 485, 522, 559], 1999: [450, 486, 523, 560], 2000: [451, 487, 524, 561], 2001: [452, 488, 525, 562], 2002: [453, 489, 526, 563], 2003: [454, 490, 527, 564], 2004: [455, 491, 528, 565], 2005: [456, 492, 529, 566], 2006: [457, 493, 530, 567], 2007: [458, 494, 531, 568], 2008: [459, 495, 532, 569], 2009: [460, 496, 533, 570], 2010: [461, 497, 534, 571], 2011: [462, 498, 535, 572], 2012: [463, 499, 536, 573], 2013: [464, 500, 537, 574], 2014: [465, 501, 538, 575], 2015: [466, 502, 539, 576], 2016: [467, 503, 540, 577], 2017: [468, 504, 541, 578], 2018: [469, 505, 542, 579], 2019: [470, 506, 543, 580], 2020: [471, 507, 544, 581], 2021: [472, 508, 545, 582], 2022: [473, 509, 546, 583], 2023: [474, 510, 547, 584], 2024: [475, 511, 548, 585], 2025: [476, 512, 549, 586], 2026: [477, 513, 550, 587]}"
      ]
     },
     "execution_count": 16,
     "metadata": {},
     "output_type": "execute_result"
    }
   ],
   "source": [
    "q1_gr.groups"
   ]
  },
  {
   "cell_type": "code",
   "execution_count": 18,
   "id": "be6124b2-af72-4f58-8686-83495819bb92",
   "metadata": {},
   "outputs": [
    {
     "data": {
      "text/html": [
       "<div>\n",
       "<style scoped>\n",
       "    .dataframe tbody tr th:only-of-type {\n",
       "        vertical-align: middle;\n",
       "    }\n",
       "\n",
       "    .dataframe tbody tr th {\n",
       "        vertical-align: top;\n",
       "    }\n",
       "\n",
       "    .dataframe thead th {\n",
       "        text-align: right;\n",
       "    }\n",
       "</style>\n",
       "<table border=\"1\" class=\"dataframe\">\n",
       "  <thead>\n",
       "    <tr style=\"text-align: right;\">\n",
       "      <th></th>\n",
       "      <th>LOCATION</th>\n",
       "      <th>SUBJECT</th>\n",
       "      <th>TIME</th>\n",
       "      <th>Value</th>\n",
       "    </tr>\n",
       "  </thead>\n",
       "  <tbody>\n",
       "    <tr>\n",
       "      <th>514</th>\n",
       "      <td>KOR</td>\n",
       "      <td>POULTRY</td>\n",
       "      <td>1990</td>\n",
       "      <td>5.570102</td>\n",
       "    </tr>\n",
       "    <tr>\n",
       "      <th>551</th>\n",
       "      <td>KOR</td>\n",
       "      <td>SHEEP</td>\n",
       "      <td>1990</td>\n",
       "      <td>0.204153</td>\n",
       "    </tr>\n",
       "  </tbody>\n",
       "</table>\n",
       "</div>"
      ],
      "text/plain": [
       "    LOCATION  SUBJECT  TIME     Value\n",
       "514      KOR  POULTRY  1990  5.570102\n",
       "551      KOR    SHEEP  1990  0.204153"
      ]
     },
     "execution_count": 18,
     "metadata": {},
     "output_type": "execute_result"
    }
   ],
   "source": [
    "q1_gr.get_group(1990)"
   ]
  },
  {
   "cell_type": "code",
   "execution_count": 21,
   "id": "85d4d636-5f2f-4d58-9963-11d6dfe14fe4",
   "metadata": {},
   "outputs": [
    {
     "data": {
      "text/html": [
       "<div>\n",
       "<style scoped>\n",
       "    .dataframe tbody tr th:only-of-type {\n",
       "        vertical-align: middle;\n",
       "    }\n",
       "\n",
       "    .dataframe tbody tr th {\n",
       "        vertical-align: top;\n",
       "    }\n",
       "\n",
       "    .dataframe thead th {\n",
       "        text-align: right;\n",
       "    }\n",
       "</style>\n",
       "<table border=\"1\" class=\"dataframe\">\n",
       "  <thead>\n",
       "    <tr style=\"text-align: right;\">\n",
       "      <th></th>\n",
       "      <th>TIME</th>\n",
       "      <th>Value</th>\n",
       "    </tr>\n",
       "  </thead>\n",
       "  <tbody>\n",
       "    <tr>\n",
       "      <th>0</th>\n",
       "      <td>1990</td>\n",
       "      <td>5.774255</td>\n",
       "    </tr>\n",
       "    <tr>\n",
       "      <th>1</th>\n",
       "      <td>1991</td>\n",
       "      <td>21.911207</td>\n",
       "    </tr>\n",
       "    <tr>\n",
       "      <th>2</th>\n",
       "      <td>1992</td>\n",
       "      <td>26.901769</td>\n",
       "    </tr>\n",
       "    <tr>\n",
       "      <th>3</th>\n",
       "      <td>1993</td>\n",
       "      <td>26.938255</td>\n",
       "    </tr>\n",
       "    <tr>\n",
       "      <th>4</th>\n",
       "      <td>1994</td>\n",
       "      <td>27.877341</td>\n",
       "    </tr>\n",
       "    <tr>\n",
       "      <th>5</th>\n",
       "      <td>1995</td>\n",
       "      <td>30.042035</td>\n",
       "    </tr>\n",
       "    <tr>\n",
       "      <th>6</th>\n",
       "      <td>1996</td>\n",
       "      <td>31.928922</td>\n",
       "    </tr>\n",
       "    <tr>\n",
       "      <th>7</th>\n",
       "      <td>1997</td>\n",
       "      <td>32.002991</td>\n",
       "    </tr>\n",
       "    <tr>\n",
       "      <th>8</th>\n",
       "      <td>1998</td>\n",
       "      <td>30.009057</td>\n",
       "    </tr>\n",
       "    <tr>\n",
       "      <th>9</th>\n",
       "      <td>1999</td>\n",
       "      <td>35.383138</td>\n",
       "    </tr>\n",
       "    <tr>\n",
       "      <th>10</th>\n",
       "      <td>2000</td>\n",
       "      <td>34.957160</td>\n",
       "    </tr>\n",
       "    <tr>\n",
       "      <th>11</th>\n",
       "      <td>2001</td>\n",
       "      <td>35.336550</td>\n",
       "    </tr>\n",
       "    <tr>\n",
       "      <th>12</th>\n",
       "      <td>2002</td>\n",
       "      <td>37.162442</td>\n",
       "    </tr>\n",
       "    <tr>\n",
       "      <th>13</th>\n",
       "      <td>2003</td>\n",
       "      <td>39.471677</td>\n",
       "    </tr>\n",
       "    <tr>\n",
       "      <th>14</th>\n",
       "      <td>2004</td>\n",
       "      <td>35.171424</td>\n",
       "    </tr>\n",
       "    <tr>\n",
       "      <th>15</th>\n",
       "      <td>2005</td>\n",
       "      <td>36.617273</td>\n",
       "    </tr>\n",
       "    <tr>\n",
       "      <th>16</th>\n",
       "      <td>2006</td>\n",
       "      <td>41.910995</td>\n",
       "    </tr>\n",
       "    <tr>\n",
       "      <th>17</th>\n",
       "      <td>2007</td>\n",
       "      <td>43.690430</td>\n",
       "    </tr>\n",
       "    <tr>\n",
       "      <th>18</th>\n",
       "      <td>2008</td>\n",
       "      <td>43.941183</td>\n",
       "    </tr>\n",
       "    <tr>\n",
       "      <th>19</th>\n",
       "      <td>2009</td>\n",
       "      <td>43.336372</td>\n",
       "    </tr>\n",
       "    <tr>\n",
       "      <th>20</th>\n",
       "      <td>2010</td>\n",
       "      <td>46.412261</td>\n",
       "    </tr>\n",
       "    <tr>\n",
       "      <th>21</th>\n",
       "      <td>2011</td>\n",
       "      <td>46.799325</td>\n",
       "    </tr>\n",
       "    <tr>\n",
       "      <th>22</th>\n",
       "      <td>2012</td>\n",
       "      <td>46.128025</td>\n",
       "    </tr>\n",
       "    <tr>\n",
       "      <th>23</th>\n",
       "      <td>2013</td>\n",
       "      <td>49.496899</td>\n",
       "    </tr>\n",
       "    <tr>\n",
       "      <th>24</th>\n",
       "      <td>2014</td>\n",
       "      <td>53.274723</td>\n",
       "    </tr>\n",
       "    <tr>\n",
       "      <th>25</th>\n",
       "      <td>2015</td>\n",
       "      <td>55.254123</td>\n",
       "    </tr>\n",
       "    <tr>\n",
       "      <th>26</th>\n",
       "      <td>2016</td>\n",
       "      <td>55.665778</td>\n",
       "    </tr>\n",
       "    <tr>\n",
       "      <th>27</th>\n",
       "      <td>2017</td>\n",
       "      <td>55.885227</td>\n",
       "    </tr>\n",
       "    <tr>\n",
       "      <th>28</th>\n",
       "      <td>2018</td>\n",
       "      <td>56.146592</td>\n",
       "    </tr>\n",
       "    <tr>\n",
       "      <th>29</th>\n",
       "      <td>2019</td>\n",
       "      <td>56.394942</td>\n",
       "    </tr>\n",
       "    <tr>\n",
       "      <th>30</th>\n",
       "      <td>2020</td>\n",
       "      <td>56.643664</td>\n",
       "    </tr>\n",
       "    <tr>\n",
       "      <th>31</th>\n",
       "      <td>2021</td>\n",
       "      <td>56.900853</td>\n",
       "    </tr>\n",
       "    <tr>\n",
       "      <th>32</th>\n",
       "      <td>2022</td>\n",
       "      <td>57.194312</td>\n",
       "    </tr>\n",
       "    <tr>\n",
       "      <th>33</th>\n",
       "      <td>2023</td>\n",
       "      <td>57.491758</td>\n",
       "    </tr>\n",
       "    <tr>\n",
       "      <th>34</th>\n",
       "      <td>2024</td>\n",
       "      <td>57.781372</td>\n",
       "    </tr>\n",
       "    <tr>\n",
       "      <th>35</th>\n",
       "      <td>2025</td>\n",
       "      <td>58.083483</td>\n",
       "    </tr>\n",
       "    <tr>\n",
       "      <th>36</th>\n",
       "      <td>2026</td>\n",
       "      <td>58.392009</td>\n",
       "    </tr>\n",
       "  </tbody>\n",
       "</table>\n",
       "</div>"
      ],
      "text/plain": [
       "    TIME      Value\n",
       "0   1990   5.774255\n",
       "1   1991  21.911207\n",
       "2   1992  26.901769\n",
       "3   1993  26.938255\n",
       "4   1994  27.877341\n",
       "5   1995  30.042035\n",
       "6   1996  31.928922\n",
       "7   1997  32.002991\n",
       "8   1998  30.009057\n",
       "9   1999  35.383138\n",
       "10  2000  34.957160\n",
       "11  2001  35.336550\n",
       "12  2002  37.162442\n",
       "13  2003  39.471677\n",
       "14  2004  35.171424\n",
       "15  2005  36.617273\n",
       "16  2006  41.910995\n",
       "17  2007  43.690430\n",
       "18  2008  43.941183\n",
       "19  2009  43.336372\n",
       "20  2010  46.412261\n",
       "21  2011  46.799325\n",
       "22  2012  46.128025\n",
       "23  2013  49.496899\n",
       "24  2014  53.274723\n",
       "25  2015  55.254123\n",
       "26  2016  55.665778\n",
       "27  2017  55.885227\n",
       "28  2018  56.146592\n",
       "29  2019  56.394942\n",
       "30  2020  56.643664\n",
       "31  2021  56.900853\n",
       "32  2022  57.194312\n",
       "33  2023  57.491758\n",
       "34  2024  57.781372\n",
       "35  2025  58.083483\n",
       "36  2026  58.392009"
      ]
     },
     "execution_count": 21,
     "metadata": {},
     "output_type": "execute_result"
    }
   ],
   "source": [
    "q1_2=q1.groupby('TIME')['Value'].sum().reset_index(drop=False)\n",
    "q1_2"
   ]
  },
  {
   "cell_type": "code",
   "execution_count": 24,
   "id": "8e2a13ff-f74e-4691-9ab1-1fd5afa04afb",
   "metadata": {},
   "outputs": [
    {
     "data": {
      "text/plain": [
       "0.96"
      ]
     },
     "execution_count": 24,
     "metadata": {},
     "output_type": "execute_result"
    }
   ],
   "source": [
    "# Q1 답\n",
    "q1_2.corr().round(2)['TIME']['Value']"
   ]
  },
  {
   "cell_type": "code",
   "execution_count": 25,
   "id": "3941257c-23c3-4154-83a7-aa994cec067d",
   "metadata": {},
   "outputs": [
    {
     "data": {
      "text/plain": [
       "TIME\n",
       "1990     2.887128\n",
       "1991     5.477802\n",
       "1992     6.725442\n",
       "1993     6.734564\n",
       "1994     6.969335\n",
       "1995     7.510509\n",
       "1996     7.982231\n",
       "1997     8.000748\n",
       "1998     7.502264\n",
       "1999     8.845784\n",
       "2000     8.739290\n",
       "2001     8.834137\n",
       "2002     9.290611\n",
       "2003     9.867919\n",
       "2004     8.792856\n",
       "2005     9.154318\n",
       "2006    10.477749\n",
       "2007    10.922607\n",
       "2008    10.985296\n",
       "2009    10.834093\n",
       "2010    11.603065\n",
       "2011    11.699831\n",
       "2012    11.532006\n",
       "2013    12.374225\n",
       "2014    13.318681\n",
       "2015    13.813531\n",
       "2016    13.916445\n",
       "2017    13.971307\n",
       "2018    14.036648\n",
       "2019    14.098736\n",
       "2020    14.160916\n",
       "2021    14.225213\n",
       "2022    14.298578\n",
       "2023    14.372939\n",
       "2024    14.445343\n",
       "2025    14.520871\n",
       "2026    14.598002\n",
       "Name: Value, dtype: float64"
      ]
     },
     "execution_count": 25,
     "metadata": {},
     "output_type": "execute_result"
    }
   ],
   "source": [
    "# Q2\n",
    "q2=q1.groupby('TIME')['Value'].mean()\n",
    "q2"
   ]
  },
  {
   "cell_type": "code",
   "execution_count": 26,
   "id": "5e1d43f7-cb51-4053-a408-5018afedb730",
   "metadata": {},
   "outputs": [],
   "source": [
    "import scipy.stats as st"
   ]
  },
  {
   "cell_type": "code",
   "execution_count": 29,
   "id": "f9d31b9d-1f9d-49d2-9b09-dda523dd93fc",
   "metadata": {},
   "outputs": [
    {
     "data": {
      "text/plain": [
       "True"
      ]
     },
     "execution_count": 29,
     "metadata": {},
     "output_type": "execute_result"
    }
   ],
   "source": [
    "q2_t_out=st.ttest_1samp(q2, 14)\n",
    "q2_t_out.pvalue < 0.05"
   ]
  },
  {
   "cell_type": "code",
   "execution_count": 44,
   "id": "5e0525f5-4296-4c2c-9b75-1b4201775811",
   "metadata": {},
   "outputs": [],
   "source": [
    "q2_3= q1[q1.TIME == 2024]"
   ]
  },
  {
   "cell_type": "code",
   "execution_count": 45,
   "id": "f585d020-d1fa-46a6-9876-2962fc68d4d9",
   "metadata": {},
   "outputs": [
    {
     "data": {
      "text/plain": [
       "False"
      ]
     },
     "execution_count": 45,
     "metadata": {},
     "output_type": "execute_result"
    }
   ],
   "source": [
    "q2_3_t_out=st.ttest_1samp(q2_3['Value'], 14)\n",
    "q2_3_t_out.pvalue < 0.05"
   ]
  },
  {
   "cell_type": "markdown",
   "id": "41636f1c-5efe-4e38-a9f0-6c48866008e6",
   "metadata": {},
   "source": [
    "q1.SUBJECT.unique()"
   ]
  },
  {
   "cell_type": "code",
   "execution_count": 34,
   "id": "229874dc-7de9-487b-bd36-fd389a7ee664",
   "metadata": {},
   "outputs": [],
   "source": [
    "from sklearn.linear_model import LinearRegression\n",
    "from sklearn.metrics import r2_score"
   ]
  },
  {
   "cell_type": "code",
   "execution_count": 33,
   "id": "677874ff-fe43-4edc-83df-66cb717afc26",
   "metadata": {},
   "outputs": [],
   "source": [
    "temp=q1[q1.SUBJECT == 'BEEF']\n",
    "lm=LinearRegression().fit(temp[['TIME']], temp['Value'])\n",
    "pred=lm.predict(temp[['TIME']])\n",
    "r2=r2_score(temp['Value'], pred)\n",
    "mape= (abs(temp['Value']-pred)/temp['Value']).mean()"
   ]
  },
  {
   "cell_type": "code",
   "execution_count": 35,
   "id": "b0b849ff-1eba-441f-95e0-7cc8ee1775bf",
   "metadata": {},
   "outputs": [
    {
     "data": {
      "text/plain": [
       "array(['BEEF', 'PIG', 'POULTRY', 'SHEEP'], dtype=object)"
      ]
     },
     "execution_count": 35,
     "metadata": {},
     "output_type": "execute_result"
    }
   ],
   "source": [
    "sub_list=q1.SUBJECT.unique()\n",
    "sub_list"
   ]
  },
  {
   "cell_type": "code",
   "execution_count": 36,
   "id": "f6bb2827-1c11-46b6-93d2-5fcfbd725854",
   "metadata": {},
   "outputs": [],
   "source": [
    "q3_col=[]\n",
    "\n",
    "for i in sub_list :\n",
    "    temp=q1[q1.SUBJECT == i]\n",
    "    lm=LinearRegression().fit(temp[['TIME']], temp['Value'])\n",
    "    pred=lm.predict(temp[['TIME']])\n",
    "    r2=r2_score(temp['Value'], pred)\n",
    "    mape= (abs(temp['Value']-pred)/temp['Value']).mean()\n",
    "    q3_col.append([i, r2, mape])"
   ]
  },
  {
   "cell_type": "code",
   "execution_count": 37,
   "id": "9795023c-4fab-4fad-8a58-f0246ca632c3",
   "metadata": {},
   "outputs": [
    {
     "data": {
      "text/plain": [
       "[['BEEF', 0.835455805530312, 0.07310893225858996],\n",
       " ['PIG', 0.9406814424683864, 0.056349798816492616],\n",
       " ['POULTRY', 0.9514978845444608, 0.057833579028745516],\n",
       " ['SHEEP', 0.004082992795654383, 0.333479658130492]]"
      ]
     },
     "execution_count": 37,
     "metadata": {},
     "output_type": "execute_result"
    }
   ],
   "source": [
    "q3_col"
   ]
  },
  {
   "cell_type": "code",
   "execution_count": 38,
   "id": "79df8828-1dad-441d-9728-1f48c7a2b127",
   "metadata": {},
   "outputs": [
    {
     "data": {
      "text/html": [
       "<div>\n",
       "<style scoped>\n",
       "    .dataframe tbody tr th:only-of-type {\n",
       "        vertical-align: middle;\n",
       "    }\n",
       "\n",
       "    .dataframe tbody tr th {\n",
       "        vertical-align: top;\n",
       "    }\n",
       "\n",
       "    .dataframe thead th {\n",
       "        text-align: right;\n",
       "    }\n",
       "</style>\n",
       "<table border=\"1\" class=\"dataframe\">\n",
       "  <thead>\n",
       "    <tr style=\"text-align: right;\">\n",
       "      <th></th>\n",
       "      <th>sub</th>\n",
       "      <th>r2</th>\n",
       "      <th>mape</th>\n",
       "    </tr>\n",
       "  </thead>\n",
       "  <tbody>\n",
       "    <tr>\n",
       "      <th>0</th>\n",
       "      <td>BEEF</td>\n",
       "      <td>0.835456</td>\n",
       "      <td>0.073109</td>\n",
       "    </tr>\n",
       "    <tr>\n",
       "      <th>1</th>\n",
       "      <td>PIG</td>\n",
       "      <td>0.940681</td>\n",
       "      <td>0.056350</td>\n",
       "    </tr>\n",
       "    <tr>\n",
       "      <th>2</th>\n",
       "      <td>POULTRY</td>\n",
       "      <td>0.951498</td>\n",
       "      <td>0.057834</td>\n",
       "    </tr>\n",
       "    <tr>\n",
       "      <th>3</th>\n",
       "      <td>SHEEP</td>\n",
       "      <td>0.004083</td>\n",
       "      <td>0.333480</td>\n",
       "    </tr>\n",
       "  </tbody>\n",
       "</table>\n",
       "</div>"
      ],
      "text/plain": [
       "       sub        r2      mape\n",
       "0     BEEF  0.835456  0.073109\n",
       "1      PIG  0.940681  0.056350\n",
       "2  POULTRY  0.951498  0.057834\n",
       "3    SHEEP  0.004083  0.333480"
      ]
     },
     "execution_count": 38,
     "metadata": {},
     "output_type": "execute_result"
    }
   ],
   "source": [
    "q3_ans=pd.DataFrame(q3_col, columns=['sub','r2','mape'])\n",
    "q3_ans"
   ]
  },
  {
   "cell_type": "code",
   "execution_count": 39,
   "id": "6a0ff2e8-6810-4fe1-99a3-a1047972c6eb",
   "metadata": {},
   "outputs": [
    {
     "data": {
      "text/plain": [
       "2"
      ]
     },
     "execution_count": 39,
     "metadata": {},
     "output_type": "execute_result"
    }
   ],
   "source": [
    "q3_ans.r2.idxmax() # 위치번호"
   ]
  },
  {
   "cell_type": "code",
   "execution_count": 40,
   "id": "7bd4dd7e-d5b1-49d2-b9c8-5a66717f37f3",
   "metadata": {},
   "outputs": [
    {
     "data": {
      "text/plain": [
       "2"
      ]
     },
     "execution_count": 40,
     "metadata": {},
     "output_type": "execute_result"
    }
   ],
   "source": [
    "q3_ans.r2.argmax() # 인덱스명"
   ]
  },
  {
   "cell_type": "code",
   "execution_count": 42,
   "id": "c414e5cb-4fec-4343-9f28-68fa47a40bee",
   "metadata": {},
   "outputs": [
    {
     "data": {
      "text/plain": [
       "0.06"
      ]
     },
     "execution_count": 42,
     "metadata": {},
     "output_type": "execute_result"
    }
   ],
   "source": [
    "# Q3 답\n",
    "round(q3_ans.loc[q3_ans.r2.argmax(), 'mape'],2)"
   ]
  },
  {
   "cell_type": "code",
   "execution_count": null,
   "id": "7d4cf1fc-d7c0-4d29-ac83-96508cdee4cf",
   "metadata": {},
   "outputs": [],
   "source": []
  }
 ],
 "metadata": {
  "kernelspec": {
   "display_name": "Python 3 (ipykernel)",
   "language": "python",
   "name": "python3"
  },
  "language_info": {
   "codemirror_mode": {
    "name": "ipython",
    "version": 3
   },
   "file_extension": ".py",
   "mimetype": "text/x-python",
   "name": "python",
   "nbconvert_exporter": "python",
   "pygments_lexer": "ipython3",
   "version": "3.12.7"
  }
 },
 "nbformat": 4,
 "nbformat_minor": 5
}
