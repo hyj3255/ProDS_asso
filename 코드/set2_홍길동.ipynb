{
 "cells": [
  {
   "cell_type": "code",
   "execution_count": 1,
   "id": "1c3812a1-595b-4335-af8a-98f7a529de5d",
   "metadata": {},
   "outputs": [],
   "source": [
    "import pandas as pd\n",
    "import numpy as np"
   ]
  },
  {
   "cell_type": "code",
   "execution_count": 2,
   "id": "079ab089-0496-4349-843f-717402a0f4ea",
   "metadata": {},
   "outputs": [
    {
     "data": {
      "text/html": [
       "<div>\n",
       "<style scoped>\n",
       "    .dataframe tbody tr th:only-of-type {\n",
       "        vertical-align: middle;\n",
       "    }\n",
       "\n",
       "    .dataframe tbody tr th {\n",
       "        vertical-align: top;\n",
       "    }\n",
       "\n",
       "    .dataframe thead th {\n",
       "        text-align: right;\n",
       "    }\n",
       "</style>\n",
       "<table border=\"1\" class=\"dataframe\">\n",
       "  <thead>\n",
       "    <tr style=\"text-align: right;\">\n",
       "      <th></th>\n",
       "      <th>Age</th>\n",
       "      <th>Sex</th>\n",
       "      <th>BP</th>\n",
       "      <th>Cholesterol</th>\n",
       "      <th>Na_to_K</th>\n",
       "      <th>Drug</th>\n",
       "    </tr>\n",
       "  </thead>\n",
       "  <tbody>\n",
       "    <tr>\n",
       "      <th>0</th>\n",
       "      <td>23</td>\n",
       "      <td>F</td>\n",
       "      <td>HIGH</td>\n",
       "      <td>HIGH</td>\n",
       "      <td>25.355</td>\n",
       "      <td>DrugY</td>\n",
       "    </tr>\n",
       "    <tr>\n",
       "      <th>1</th>\n",
       "      <td>47</td>\n",
       "      <td>M</td>\n",
       "      <td>LOW</td>\n",
       "      <td>HIGH</td>\n",
       "      <td>13.093</td>\n",
       "      <td>drugC</td>\n",
       "    </tr>\n",
       "    <tr>\n",
       "      <th>2</th>\n",
       "      <td>47</td>\n",
       "      <td>M</td>\n",
       "      <td>LOW</td>\n",
       "      <td>HIGH</td>\n",
       "      <td>10.114</td>\n",
       "      <td>drugC</td>\n",
       "    </tr>\n",
       "  </tbody>\n",
       "</table>\n",
       "</div>"
      ],
      "text/plain": [
       "   Age Sex    BP Cholesterol  Na_to_K   Drug\n",
       "0   23   F  HIGH        HIGH   25.355  DrugY\n",
       "1   47   M   LOW        HIGH   13.093  drugC\n",
       "2   47   M   LOW        HIGH   10.114  drugC"
      ]
     },
     "execution_count": 2,
     "metadata": {},
     "output_type": "execute_result"
    }
   ],
   "source": [
    "dat2=pd.read_csv('dataset/Dataset_02.csv')\n",
    "dat2.head(3)"
   ]
  },
  {
   "cell_type": "code",
   "execution_count": 3,
   "id": "3978b4a5-a98d-4d98-8f5d-f12ec64c879c",
   "metadata": {},
   "outputs": [
    {
     "name": "stdout",
     "output_type": "stream",
     "text": [
      "<class 'pandas.core.frame.DataFrame'>\n",
      "RangeIndex: 200 entries, 0 to 199\n",
      "Data columns (total 6 columns):\n",
      " #   Column       Non-Null Count  Dtype  \n",
      "---  ------       --------------  -----  \n",
      " 0   Age          200 non-null    int64  \n",
      " 1   Sex          200 non-null    object \n",
      " 2   BP           200 non-null    object \n",
      " 3   Cholesterol  200 non-null    object \n",
      " 4   Na_to_K      200 non-null    float64\n",
      " 5   Drug         200 non-null    object \n",
      "dtypes: float64(1), int64(1), object(4)\n",
      "memory usage: 9.5+ KB\n"
     ]
    }
   ],
   "source": [
    "dat2.info()"
   ]
  },
  {
   "cell_type": "code",
   "execution_count": null,
   "id": "1238f1d5-2420-4cd3-b41b-960249adc80b",
   "metadata": {},
   "outputs": [],
   "source": [
    "# Q1"
   ]
  },
  {
   "cell_type": "code",
   "execution_count": 5,
   "id": "55e45dcd-262c-4418-9a5c-db7a08dae6e0",
   "metadata": {},
   "outputs": [],
   "source": [
    "f=lambda x: x*3"
   ]
  },
  {
   "cell_type": "code",
   "execution_count": 6,
   "id": "aa200ea0-1bbc-4102-9387-7136a83d69da",
   "metadata": {},
   "outputs": [
    {
     "data": {
      "text/plain": [
       "12"
      ]
     },
     "execution_count": 6,
     "metadata": {},
     "output_type": "execute_result"
    }
   ],
   "source": [
    "f(4)"
   ]
  },
  {
   "cell_type": "code",
   "execution_count": 9,
   "id": "1744f219-2149-479a-b30e-4e6490af5063",
   "metadata": {},
   "outputs": [],
   "source": [
    "q1=dat2.groupby(['Sex', 'BP', 'Cholesterol'])['Age'].apply(lambda x: len(x)) / len(dat2)"
   ]
  },
  {
   "cell_type": "code",
   "execution_count": 10,
   "id": "8ecfef78-bc2e-4739-9ac2-27324baf4327",
   "metadata": {},
   "outputs": [
    {
     "data": {
      "text/plain": [
       "Sex  BP      Cholesterol\n",
       "F    HIGH    HIGH           0.085\n",
       "             NORMAL         0.105\n",
       "     LOW     HIGH           0.070\n",
       "             NORMAL         0.070\n",
       "     NORMAL  HIGH           0.090\n",
       "             NORMAL         0.060\n",
       "M    HIGH    HIGH           0.090\n",
       "             NORMAL         0.105\n",
       "     LOW     HIGH           0.085\n",
       "             NORMAL         0.095\n",
       "     NORMAL  HIGH           0.095\n",
       "             NORMAL         0.050\n",
       "Name: Age, dtype: float64"
      ]
     },
     "execution_count": 10,
     "metadata": {},
     "output_type": "execute_result"
    }
   ],
   "source": [
    "q1"
   ]
  },
  {
   "cell_type": "code",
   "execution_count": 11,
   "id": "b857cd23-4a4a-4ebf-a12f-921be3b1ce8d",
   "metadata": {},
   "outputs": [
    {
     "data": {
      "text/plain": [
       "MultiIndex([('F',   'HIGH',   'HIGH'),\n",
       "            ('F',   'HIGH', 'NORMAL'),\n",
       "            ('F',    'LOW',   'HIGH'),\n",
       "            ('F',    'LOW', 'NORMAL'),\n",
       "            ('F', 'NORMAL',   'HIGH'),\n",
       "            ('F', 'NORMAL', 'NORMAL'),\n",
       "            ('M',   'HIGH',   'HIGH'),\n",
       "            ('M',   'HIGH', 'NORMAL'),\n",
       "            ('M',    'LOW',   'HIGH'),\n",
       "            ('M',    'LOW', 'NORMAL'),\n",
       "            ('M', 'NORMAL',   'HIGH'),\n",
       "            ('M', 'NORMAL', 'NORMAL')],\n",
       "           names=['Sex', 'BP', 'Cholesterol'])"
      ]
     },
     "execution_count": 11,
     "metadata": {},
     "output_type": "execute_result"
    }
   ],
   "source": [
    "q1.index"
   ]
  },
  {
   "cell_type": "code",
   "execution_count": 12,
   "id": "7a915f1e-511f-4e9f-a1a9-c08417394558",
   "metadata": {},
   "outputs": [
    {
     "data": {
      "text/plain": [
       "0.105"
      ]
     },
     "execution_count": 12,
     "metadata": {},
     "output_type": "execute_result"
    }
   ],
   "source": [
    "q1[('F',   'HIGH', 'NORMAL')]"
   ]
  },
  {
   "cell_type": "code",
   "execution_count": 13,
   "id": "c3a282cd-154f-47d7-96fd-7a1395bb504a",
   "metadata": {},
   "outputs": [
    {
     "data": {
      "text/html": [
       "<div>\n",
       "<style scoped>\n",
       "    .dataframe tbody tr th:only-of-type {\n",
       "        vertical-align: middle;\n",
       "    }\n",
       "\n",
       "    .dataframe tbody tr th {\n",
       "        vertical-align: top;\n",
       "    }\n",
       "\n",
       "    .dataframe thead th {\n",
       "        text-align: right;\n",
       "    }\n",
       "</style>\n",
       "<table border=\"1\" class=\"dataframe\">\n",
       "  <thead>\n",
       "    <tr style=\"text-align: right;\">\n",
       "      <th></th>\n",
       "      <th>Cholesterol</th>\n",
       "      <th>HIGH</th>\n",
       "      <th>NORMAL</th>\n",
       "    </tr>\n",
       "    <tr>\n",
       "      <th>Sex</th>\n",
       "      <th>BP</th>\n",
       "      <th></th>\n",
       "      <th></th>\n",
       "    </tr>\n",
       "  </thead>\n",
       "  <tbody>\n",
       "    <tr>\n",
       "      <th rowspan=\"3\" valign=\"top\">F</th>\n",
       "      <th>HIGH</th>\n",
       "      <td>0.085</td>\n",
       "      <td>0.105</td>\n",
       "    </tr>\n",
       "    <tr>\n",
       "      <th>LOW</th>\n",
       "      <td>0.070</td>\n",
       "      <td>0.070</td>\n",
       "    </tr>\n",
       "    <tr>\n",
       "      <th>NORMAL</th>\n",
       "      <td>0.090</td>\n",
       "      <td>0.060</td>\n",
       "    </tr>\n",
       "    <tr>\n",
       "      <th rowspan=\"3\" valign=\"top\">M</th>\n",
       "      <th>HIGH</th>\n",
       "      <td>0.090</td>\n",
       "      <td>0.105</td>\n",
       "    </tr>\n",
       "    <tr>\n",
       "      <th>LOW</th>\n",
       "      <td>0.085</td>\n",
       "      <td>0.095</td>\n",
       "    </tr>\n",
       "    <tr>\n",
       "      <th>NORMAL</th>\n",
       "      <td>0.095</td>\n",
       "      <td>0.050</td>\n",
       "    </tr>\n",
       "  </tbody>\n",
       "</table>\n",
       "</div>"
      ],
      "text/plain": [
       "Cholesterol   HIGH  NORMAL\n",
       "Sex BP                    \n",
       "F   HIGH     0.085   0.105\n",
       "    LOW      0.070   0.070\n",
       "    NORMAL   0.090   0.060\n",
       "M   HIGH     0.090   0.105\n",
       "    LOW      0.085   0.095\n",
       "    NORMAL   0.095   0.050"
      ]
     },
     "execution_count": 13,
     "metadata": {},
     "output_type": "execute_result"
    }
   ],
   "source": [
    "q1.unstack()"
   ]
  },
  {
   "cell_type": "code",
   "execution_count": 15,
   "id": "f0bd002e-a299-4031-ba7f-79db53d8ba43",
   "metadata": {},
   "outputs": [
    {
     "data": {
      "text/html": [
       "<div>\n",
       "<style scoped>\n",
       "    .dataframe tbody tr th:only-of-type {\n",
       "        vertical-align: middle;\n",
       "    }\n",
       "\n",
       "    .dataframe tbody tr th {\n",
       "        vertical-align: top;\n",
       "    }\n",
       "\n",
       "    .dataframe thead th {\n",
       "        text-align: right;\n",
       "    }\n",
       "</style>\n",
       "<table border=\"1\" class=\"dataframe\">\n",
       "  <thead>\n",
       "    <tr style=\"text-align: right;\">\n",
       "      <th></th>\n",
       "      <th>Cholesterol</th>\n",
       "      <th>HIGH</th>\n",
       "      <th>NORMAL</th>\n",
       "    </tr>\n",
       "    <tr>\n",
       "      <th>Sex</th>\n",
       "      <th>BP</th>\n",
       "      <th></th>\n",
       "      <th></th>\n",
       "    </tr>\n",
       "  </thead>\n",
       "  <tbody>\n",
       "    <tr>\n",
       "      <th rowspan=\"3\" valign=\"top\">F</th>\n",
       "      <th>HIGH</th>\n",
       "      <td>0.085</td>\n",
       "      <td>0.105</td>\n",
       "    </tr>\n",
       "    <tr>\n",
       "      <th>LOW</th>\n",
       "      <td>0.070</td>\n",
       "      <td>0.070</td>\n",
       "    </tr>\n",
       "    <tr>\n",
       "      <th>NORMAL</th>\n",
       "      <td>0.090</td>\n",
       "      <td>0.060</td>\n",
       "    </tr>\n",
       "    <tr>\n",
       "      <th rowspan=\"3\" valign=\"top\">M</th>\n",
       "      <th>HIGH</th>\n",
       "      <td>0.090</td>\n",
       "      <td>0.105</td>\n",
       "    </tr>\n",
       "    <tr>\n",
       "      <th>LOW</th>\n",
       "      <td>0.085</td>\n",
       "      <td>0.095</td>\n",
       "    </tr>\n",
       "    <tr>\n",
       "      <th>NORMAL</th>\n",
       "      <td>0.095</td>\n",
       "      <td>0.050</td>\n",
       "    </tr>\n",
       "  </tbody>\n",
       "</table>\n",
       "</div>"
      ],
      "text/plain": [
       "Cholesterol   HIGH  NORMAL\n",
       "Sex BP                    \n",
       "F   HIGH     0.085   0.105\n",
       "    LOW      0.070   0.070\n",
       "    NORMAL   0.090   0.060\n",
       "M   HIGH     0.090   0.105\n",
       "    LOW      0.085   0.095\n",
       "    NORMAL   0.095   0.050"
      ]
     },
     "execution_count": 15,
     "metadata": {},
     "output_type": "execute_result"
    }
   ],
   "source": [
    "pd.crosstab(index=[dat2.Sex, dat2.BP],\n",
    "            columns=dat2.Cholesterol, normalize=True)  # 답 0.105"
   ]
  },
  {
   "cell_type": "code",
   "execution_count": null,
   "id": "01f1e032-3817-4f04-ab65-0d0967108e4a",
   "metadata": {},
   "outputs": [],
   "source": [
    "# Q2"
   ]
  },
  {
   "cell_type": "code",
   "execution_count": 16,
   "id": "528cccd3-9623-48a7-9774-aa3f928dbea1",
   "metadata": {},
   "outputs": [],
   "source": [
    "q2=dat2.copy()"
   ]
  },
  {
   "cell_type": "code",
   "execution_count": null,
   "id": "4ba33d6f-c7fa-465c-bad3-e86e590bf591",
   "metadata": {},
   "outputs": [],
   "source": [
    "# np.where(조건) # 조건에 만족하는 데이터의 위치번호 리턴\n",
    "# np.where(조건, True인 경우 처리문, False인 경우 처리문)"
   ]
  },
  {
   "cell_type": "code",
   "execution_count": null,
   "id": "6ac2373d-458a-4fbe-b402-0817d2707b90",
   "metadata": {
    "jupyter": {
     "source_hidden": true
    }
   },
   "outputs": [],
   "source": [
    "# q2['Age_gr']= np.where(dat2.Age.isna(), dat2.Age, \n",
    "#                   np.where(dat2.Age < 20, '10',\n",
    "#                     np.where(dat2.Age < 30, '20',\n",
    "#                        np.where(dat2.Age < 40, '30', \n",
    "#                          np.where(dat2.Age < 50, '40',\n",
    "#                             np.where(dat2.Age < 60, '50', '60'))))))   "
   ]
  },
  {
   "cell_type": "code",
   "execution_count": 18,
   "id": "7fa8e3c2-d1d1-45ad-b5c6-a3c05800c9f3",
   "metadata": {},
   "outputs": [],
   "source": [
    "q2['Age_gr']=np.where(q2.Age < 20, '10',\n",
    "                np.where(q2.Age < 30, '20',\n",
    "                   np.where(q2.Age < 40, '30', \n",
    "                     np.where(q2.Age < 50, '40',\n",
    "                        np.where(q2.Age < 60, '50', '60')))))     "
   ]
  },
  {
   "cell_type": "code",
   "execution_count": 19,
   "id": "bfc48034-500d-4427-9d9c-4585208d030a",
   "metadata": {},
   "outputs": [],
   "source": [
    "q2['Na_K_gr'] = np.where(q2.Na_to_K <= 10, 'Lv1', \n",
    "                   np.where(q2.Na_to_K <= 20, 'Lv2',  \n",
    "                      np.where(q2.Na_to_K <= 30, 'Lv3', 'Lv4')))      "
   ]
  },
  {
   "cell_type": "code",
   "execution_count": 20,
   "id": "9f886f2b-9b55-48f6-a286-f1d9dc7c850f",
   "metadata": {},
   "outputs": [],
   "source": [
    "# 카이스퀘어 검정 수행( 입력 값이 교차표로 작성되어 있어야 함)\n",
    "\n",
    "from scipy.stats import chi2_contingency"
   ]
  },
  {
   "cell_type": "code",
   "execution_count": 25,
   "id": "16af731a-031c-46d7-8d6b-bbb1e194a3c0",
   "metadata": {},
   "outputs": [
    {
     "data": {
      "text/plain": [
       "0.7138369773987128"
      ]
     },
     "execution_count": 25,
     "metadata": {},
     "output_type": "execute_result"
    }
   ],
   "source": [
    "# Sex-Drug: X\n",
    "\n",
    "tab = pd.crosstab(index=q2.Sex, columns=q2.Drug)\n",
    "chi2_contingency(tab)[1]"
   ]
  },
  {
   "cell_type": "code",
   "execution_count": 26,
   "id": "a161f518-28ab-44e6-9318-6a20a0d86993",
   "metadata": {},
   "outputs": [
    {
     "data": {
      "text/plain": [
       "5.0417334144665895e-27"
      ]
     },
     "execution_count": 26,
     "metadata": {},
     "output_type": "execute_result"
    }
   ],
   "source": [
    "# BP-Drug: O\n",
    "tab = pd.crosstab(index=q2.BP, columns=q2.Drug)\n",
    "chi2_contingency(tab)[1]"
   ]
  },
  {
   "cell_type": "code",
   "execution_count": 27,
   "id": "8bd3cc9c-804c-4867-9f67-d572dc5027c8",
   "metadata": {},
   "outputs": [
    {
     "data": {
      "text/plain": [
       "0.0005962588389856497"
      ]
     },
     "execution_count": 27,
     "metadata": {},
     "output_type": "execute_result"
    }
   ],
   "source": [
    "# Cholesterol-Drug: O\n",
    "tab = pd.crosstab(index=q2.Cholesterol, columns=q2.Drug)\n",
    "chi2_contingency(tab)[1]"
   ]
  },
  {
   "cell_type": "code",
   "execution_count": 28,
   "id": "5411c3a9-8128-4d5e-ba34-7e43cfe6e786",
   "metadata": {},
   "outputs": [
    {
     "data": {
      "text/plain": [
       "0.0007010113024729462"
      ]
     },
     "execution_count": 28,
     "metadata": {},
     "output_type": "execute_result"
    }
   ],
   "source": [
    "# Age_gr-Drug: O\n",
    "tab = pd.crosstab(index=q2.Age_gr, columns=q2.Drug)\n",
    "chi2_contingency(tab)[1]"
   ]
  },
  {
   "cell_type": "code",
   "execution_count": 29,
   "id": "833a69ed-d52b-4d9d-a95c-0eafca2bc38b",
   "metadata": {},
   "outputs": [
    {
     "data": {
      "text/plain": [
       "1.1254641594413981e-14"
      ]
     },
     "execution_count": 29,
     "metadata": {},
     "output_type": "execute_result"
    }
   ],
   "source": [
    "# Na_K_gr-Drug: O\n",
    "tab = pd.crosstab(index=q2.Na_K_gr, columns=q2.Drug)\n",
    "chi2_contingency(tab)[1]"
   ]
  },
  {
   "cell_type": "code",
   "execution_count": null,
   "id": "fb906ee8-6b1f-4453-aaae-907f501a15d7",
   "metadata": {},
   "outputs": [],
   "source": [
    "# 답: 4, 0.0007"
   ]
  },
  {
   "cell_type": "code",
   "execution_count": null,
   "id": "3eb70b8f-5568-4bb0-bd93-96841b1cbf0f",
   "metadata": {},
   "outputs": [],
   "source": [
    "# Q3"
   ]
  },
  {
   "cell_type": "code",
   "execution_count": 30,
   "id": "c9659e39-46c7-4a55-8775-3cd3d781370f",
   "metadata": {},
   "outputs": [],
   "source": [
    "q3=dat2.copy()"
   ]
  },
  {
   "cell_type": "code",
   "execution_count": 32,
   "id": "6391cf47-c462-4b1f-bb7d-c7313b3c4a7f",
   "metadata": {},
   "outputs": [],
   "source": [
    "q3['Sex_cd'] = np.where(q3.Sex == 'M' , 0, 1)\n",
    "q3['BP_cd']= np.where(q3.BP == 'LOW' , 0, np.where(q3.BP == 'NORMAL', 1,2))\n",
    "q3['Ch_cd']=np.where(q3.Cholesterol == 'NORMAL', 0, 1)"
   ]
  },
  {
   "cell_type": "code",
   "execution_count": 33,
   "id": "1b52f139-5695-43f5-91a3-d70241737c92",
   "metadata": {},
   "outputs": [],
   "source": [
    "q3_list=['Age', 'Na_to_K', 'Sex_cd', 'BP_cd', 'Ch_cd']"
   ]
  },
  {
   "cell_type": "code",
   "execution_count": 34,
   "id": "0967e7c7-800b-4e10-8440-342de081c2c0",
   "metadata": {},
   "outputs": [],
   "source": [
    "from sklearn.tree import DecisionTreeClassifier, export_text, plot_tree"
   ]
  },
  {
   "cell_type": "code",
   "execution_count": 35,
   "id": "80441d4e-796e-4873-871b-dc8f67097992",
   "metadata": {},
   "outputs": [],
   "source": [
    "dt=DecisionTreeClassifier().fit(q3[q3_list], q3['Drug'])  # 답: Na_to_K , 14.83"
   ]
  },
  {
   "cell_type": "code",
   "execution_count": 38,
   "id": "2e95ba8c-520e-4396-add1-75341ee6b91d",
   "metadata": {},
   "outputs": [
    {
     "name": "stdout",
     "output_type": "stream",
     "text": [
      "|--- Na_to_K <= 14.83\n",
      "|   |--- BP_cd <= 1.50\n",
      "|   |   |--- BP_cd <= 0.50\n",
      "|   |   |   |--- Ch_cd <= 0.50\n",
      "|   |   |   |   |--- class: drugX\n",
      "|   |   |   |--- Ch_cd >  0.50\n",
      "|   |   |   |   |--- class: drugC\n",
      "|   |   |--- BP_cd >  0.50\n",
      "|   |   |   |--- class: drugX\n",
      "|   |--- BP_cd >  1.50\n",
      "|   |   |--- Age <= 50.50\n",
      "|   |   |   |--- class: drugA\n",
      "|   |   |--- Age >  50.50\n",
      "|   |   |   |--- class: drugB\n",
      "|--- Na_to_K >  14.83\n",
      "|   |--- class: DrugY\n",
      "\n"
     ]
    }
   ],
   "source": [
    "print(export_text(dt, feature_names=q3_list))"
   ]
  },
  {
   "cell_type": "code",
   "execution_count": 40,
   "id": "e9b38285-aed4-475d-8a88-814aeb17224c",
   "metadata": {},
   "outputs": [
    {
     "data": {
      "image/png": "[encoded data removed]",
      "text/plain": [
       "<Figure size 640x480 with 1 Axes>"
      ]
     },
     "metadata": {},
     "output_type": "display_data"
    }
   ],
   "source": [
    "plot_tree(dt, feature_names=q3_list);"
   ]
  },
  {
   "cell_type": "code",
   "execution_count": null,
   "id": "f340d2aa-0ae7-4394-8eb1-bcbdcf833aab",
   "metadata": {},
   "outputs": [],
   "source": []
  }
 ],
 "metadata": {
  "kernelspec": {
   "display_name": "Python 3 (ipykernel)",
   "language": "python",
   "name": "python3"
  },
  "language_info": {
   "codemirror_mode": {
    "name": "ipython",
    "version": 3
   },
   "file_extension": ".py",
   "mimetype": "text/x-python",
   "name": "python",
   "nbconvert_exporter": "python",
   "pygments_lexer": "ipython3",
   "version": "3.12.7"
  }
 },
 "nbformat": 4,
 "nbformat_minor": 5
}
