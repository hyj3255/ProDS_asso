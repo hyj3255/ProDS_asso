{
 "cells": [
  {
   "cell_type": "markdown",
   "id": "a2e02f3c",
   "metadata": {},
   "source": [
    "# [ProDS Asso] Set2"
   ]
  },
  {
   "cell_type": "code",
   "execution_count": 1,
   "id": "0cfe90fd",
   "metadata": {},
   "outputs": [],
   "source": [
    "import pandas as pd\n",
    "import numpy as np"
   ]
  },
  {
   "cell_type": "code",
   "execution_count": 2,
   "id": "520fd8f7",
   "metadata": {},
   "outputs": [
    {
     "data": {
      "text/plain": [
       "Age\n",
       "26-35    184510\n",
       "36-45     95036\n",
       "18-25     83542\n",
       "46-50     38522\n",
       "51-55     32473\n",
       "55+       17809\n",
       "0-17      13450\n",
       "Name: count, dtype: int64"
      ]
     },
     "execution_count": 2,
     "metadata": {},
     "output_type": "execute_result"
    }
   ],
   "source": [
    "# =============================================================================\n",
    "# 데이터 읽기 및 데이터 타입 확인\n",
    "# =============================================================================\n",
    "\n",
    "dat2=pd.read_csv(\"dataset/Dataset_17.csv\")\n",
    "dat2.dtypes\n",
    "\n",
    "\n",
    "dat2.columns.values\n",
    "# ['User_ID', 'Product_ID', 'Gender', 'Age', 'Occupation',\n",
    "#  'City_Category', 'Stay_In_Current_City_Years', 'Marital_Status',\n",
    "#  'Product_Category', 'Purchase', 'Type']\n",
    "\n",
    "dat2.Age.value_counts()"
   ]
  },
  {
   "cell_type": "markdown",
   "id": "263e2110",
   "metadata": {},
   "source": [
    "## Q1"
   ]
  },
  {
   "cell_type": "code",
   "execution_count": 3,
   "id": "0572d983",
   "metadata": {},
   "outputs": [
    {
     "data": {
      "text/plain": [
       "<Axes: xlabel='City_Category', ylabel='Purchase'>"
      ]
     },
     "execution_count": 3,
     "metadata": {},
     "output_type": "execute_result"
    },
    {
     "data": {
      "image/png": "[encoded data removed]",
      "text/plain": [
       "<Figure size 640x480 with 1 Axes>"
      ]
     },
     "metadata": {},
     "output_type": "display_data"
    }
   ],
   "source": [
    "q1 = dat2.copy()\n",
    "\n",
    "\n",
    "import seaborn as sns\n",
    "\n",
    "sns.boxplot(data=q1, y='Purchase', x='City_Category')"
   ]
  },
  {
   "cell_type": "code",
   "execution_count": 4,
   "id": "a9087154",
   "metadata": {},
   "outputs": [
    {
     "data": {
      "text/plain": [
       "651.0"
      ]
     },
     "execution_count": 4,
     "metadata": {},
     "output_type": "execute_result"
    }
   ],
   "source": [
    "q1_tab=q1.groupby('City_Category')['Purchase'].median()\n",
    "\n",
    "abs(q1_tab.max() - q1_tab.min())\n",
    "\n",
    "# 답: 651"
   ]
  },
  {
   "cell_type": "markdown",
   "id": "66c033ab",
   "metadata": {},
   "source": [
    "## Q2"
   ]
  },
  {
   "cell_type": "code",
   "execution_count": 5,
   "id": "32d3b2f8",
   "metadata": {},
   "outputs": [
    {
     "data": {
      "text/plain": [
       "0.769"
      ]
     },
     "execution_count": 5,
     "metadata": {},
     "output_type": "execute_result"
    }
   ],
   "source": [
    "import numpy as np\n",
    "import scipy\n",
    "import scipy.stats\n",
    "\n",
    "from scipy.stats import ttest_ind\n",
    "\n",
    "q2=pd.pivot_table(dat2, index='User_ID',columns='Age',\n",
    "                  values='Purchase', aggfunc='sum')\n",
    "\n",
    "\n",
    "q2_45=q2['46-50'].dropna()\n",
    "q2_51=q2['51-55'].dropna()\n",
    "\n",
    "\n",
    "## default 등분산 가정\n",
    "out1=ttest_ind(q2_45, q2_51, equal_var=True)\n",
    "np.trunc(out1.pvalue*1000)/1000\n",
    "\n",
    "\n",
    "# 답: 0.769"
   ]
  },
  {
   "cell_type": "code",
   "execution_count": 8,
   "id": "c4b43ea6-12a1-4cda-bc91-4551344c7902",
   "metadata": {},
   "outputs": [
    {
     "data": {
      "text/plain": [
       "User_ID\n",
       "1001680    1026\n",
       "1004277     979\n",
       "1001941     898\n",
       "1001181     862\n",
       "1000889     823\n",
       "           ... \n",
       "1000094       7\n",
       "1004991       7\n",
       "1005391       7\n",
       "1005608       7\n",
       "1000708       6\n",
       "Name: count, Length: 4982, dtype: int64"
      ]
     },
     "execution_count": 8,
     "metadata": {},
     "output_type": "execute_result"
    }
   ],
   "source": [
    "dat2.User_ID.value_counts()"
   ]
  },
  {
   "cell_type": "code",
   "execution_count": 9,
   "id": "2c6f2f76-b208-49b6-b60c-5a7fe05d2b37",
   "metadata": {},
   "outputs": [
    {
     "data": {
      "text/html": [
       "<div>\n",
       "<style scoped>\n",
       "    .dataframe tbody tr th:only-of-type {\n",
       "        vertical-align: middle;\n",
       "    }\n",
       "\n",
       "    .dataframe tbody tr th {\n",
       "        vertical-align: top;\n",
       "    }\n",
       "\n",
       "    .dataframe thead th {\n",
       "        text-align: right;\n",
       "    }\n",
       "</style>\n",
       "<table border=\"1\" class=\"dataframe\">\n",
       "  <thead>\n",
       "    <tr style=\"text-align: right;\">\n",
       "      <th>Age</th>\n",
       "      <th>0-17</th>\n",
       "      <th>18-25</th>\n",
       "      <th>26-35</th>\n",
       "      <th>36-45</th>\n",
       "      <th>46-50</th>\n",
       "      <th>51-55</th>\n",
       "      <th>55+</th>\n",
       "    </tr>\n",
       "    <tr>\n",
       "      <th>User_ID</th>\n",
       "      <th></th>\n",
       "      <th></th>\n",
       "      <th></th>\n",
       "      <th></th>\n",
       "      <th></th>\n",
       "      <th></th>\n",
       "      <th></th>\n",
       "    </tr>\n",
       "  </thead>\n",
       "  <tbody>\n",
       "    <tr>\n",
       "      <th>1000001</th>\n",
       "      <td>334093.0</td>\n",
       "      <td>NaN</td>\n",
       "      <td>NaN</td>\n",
       "      <td>NaN</td>\n",
       "      <td>NaN</td>\n",
       "      <td>NaN</td>\n",
       "      <td>NaN</td>\n",
       "    </tr>\n",
       "    <tr>\n",
       "      <th>1000003</th>\n",
       "      <td>NaN</td>\n",
       "      <td>NaN</td>\n",
       "      <td>341635.0</td>\n",
       "      <td>NaN</td>\n",
       "      <td>NaN</td>\n",
       "      <td>NaN</td>\n",
       "      <td>NaN</td>\n",
       "    </tr>\n",
       "    <tr>\n",
       "      <th>1000004</th>\n",
       "      <td>NaN</td>\n",
       "      <td>NaN</td>\n",
       "      <td>NaN</td>\n",
       "      <td>NaN</td>\n",
       "      <td>206468.0</td>\n",
       "      <td>NaN</td>\n",
       "      <td>NaN</td>\n",
       "    </tr>\n",
       "    <tr>\n",
       "      <th>1000005</th>\n",
       "      <td>NaN</td>\n",
       "      <td>NaN</td>\n",
       "      <td>821001.0</td>\n",
       "      <td>NaN</td>\n",
       "      <td>NaN</td>\n",
       "      <td>NaN</td>\n",
       "      <td>NaN</td>\n",
       "    </tr>\n",
       "    <tr>\n",
       "      <th>1000006</th>\n",
       "      <td>NaN</td>\n",
       "      <td>NaN</td>\n",
       "      <td>NaN</td>\n",
       "      <td>NaN</td>\n",
       "      <td>NaN</td>\n",
       "      <td>379930.0</td>\n",
       "      <td>NaN</td>\n",
       "    </tr>\n",
       "    <tr>\n",
       "      <th>...</th>\n",
       "      <td>...</td>\n",
       "      <td>...</td>\n",
       "      <td>...</td>\n",
       "      <td>...</td>\n",
       "      <td>...</td>\n",
       "      <td>...</td>\n",
       "      <td>...</td>\n",
       "    </tr>\n",
       "    <tr>\n",
       "      <th>1006033</th>\n",
       "      <td>NaN</td>\n",
       "      <td>NaN</td>\n",
       "      <td>NaN</td>\n",
       "      <td>NaN</td>\n",
       "      <td>NaN</td>\n",
       "      <td>501843.0</td>\n",
       "      <td>NaN</td>\n",
       "    </tr>\n",
       "    <tr>\n",
       "      <th>1006034</th>\n",
       "      <td>NaN</td>\n",
       "      <td>NaN</td>\n",
       "      <td>197086.0</td>\n",
       "      <td>NaN</td>\n",
       "      <td>NaN</td>\n",
       "      <td>NaN</td>\n",
       "      <td>NaN</td>\n",
       "    </tr>\n",
       "    <tr>\n",
       "      <th>1006035</th>\n",
       "      <td>NaN</td>\n",
       "      <td>NaN</td>\n",
       "      <td>956645.0</td>\n",
       "      <td>NaN</td>\n",
       "      <td>NaN</td>\n",
       "      <td>NaN</td>\n",
       "      <td>NaN</td>\n",
       "    </tr>\n",
       "    <tr>\n",
       "      <th>1006038</th>\n",
       "      <td>NaN</td>\n",
       "      <td>NaN</td>\n",
       "      <td>NaN</td>\n",
       "      <td>NaN</td>\n",
       "      <td>NaN</td>\n",
       "      <td>NaN</td>\n",
       "      <td>90034.0</td>\n",
       "    </tr>\n",
       "    <tr>\n",
       "      <th>1006040</th>\n",
       "      <td>NaN</td>\n",
       "      <td>NaN</td>\n",
       "      <td>1653299.0</td>\n",
       "      <td>NaN</td>\n",
       "      <td>NaN</td>\n",
       "      <td>NaN</td>\n",
       "      <td>NaN</td>\n",
       "    </tr>\n",
       "  </tbody>\n",
       "</table>\n",
       "<p>4982 rows × 7 columns</p>\n",
       "</div>"
      ],
      "text/plain": [
       "Age          0-17  18-25      26-35  36-45     46-50     51-55      55+\n",
       "User_ID                                                                \n",
       "1000001  334093.0    NaN        NaN    NaN       NaN       NaN      NaN\n",
       "1000003       NaN    NaN   341635.0    NaN       NaN       NaN      NaN\n",
       "1000004       NaN    NaN        NaN    NaN  206468.0       NaN      NaN\n",
       "1000005       NaN    NaN   821001.0    NaN       NaN       NaN      NaN\n",
       "1000006       NaN    NaN        NaN    NaN       NaN  379930.0      NaN\n",
       "...           ...    ...        ...    ...       ...       ...      ...\n",
       "1006033       NaN    NaN        NaN    NaN       NaN  501843.0      NaN\n",
       "1006034       NaN    NaN   197086.0    NaN       NaN       NaN      NaN\n",
       "1006035       NaN    NaN   956645.0    NaN       NaN       NaN      NaN\n",
       "1006038       NaN    NaN        NaN    NaN       NaN       NaN  90034.0\n",
       "1006040       NaN    NaN  1653299.0    NaN       NaN       NaN      NaN\n",
       "\n",
       "[4982 rows x 7 columns]"
      ]
     },
     "execution_count": 9,
     "metadata": {},
     "output_type": "execute_result"
    }
   ],
   "source": [
    "q2"
   ]
  },
  {
   "cell_type": "markdown",
   "id": "b42185a1",
   "metadata": {
    "jupyter": {
     "source_hidden": true
    }
   },
   "source": [
    "## Q3"
   ]
  },
  {
   "cell_type": "code",
   "execution_count": 6,
   "id": "821a319c",
   "metadata": {},
   "outputs": [
    {
     "data": {
      "text/plain": [
       "0.98"
      ]
     },
     "execution_count": 6,
     "metadata": {},
     "output_type": "execute_result"
    }
   ],
   "source": [
    "q3=dat2.copy()\n",
    "\n",
    "\n",
    "q3['VIP'].value_counts()\n",
    "\n",
    "train=q3[q3.Type == 'train']\n",
    "test=q3[q3.Type == 'test']\n",
    "\n",
    "train.columns\n",
    "\n",
    "var_list= ['Gender', 'City_Category_B', 'City_Category_C',\n",
    "  'Occupation_1', 'Occupation_2', 'Occupation_3', 'Occupation_4',\n",
    "  'Occupation_5', 'Occupation_6', 'Occupation_7', 'Occupation_8',\n",
    "  'Occupation_9', 'Occupation_10', 'Occupation_11', 'Occupation_12',\n",
    "  'Occupation_13', 'Occupation_14', 'Occupation_15', 'Occupation_16',\n",
    "  'Occupation_17', 'Occupation_18', 'Occupation_19', 'Occupation_20',\n",
    "  'Marital_Status']\n",
    "\n",
    "\n",
    "from sklearn.linear_model import LogisticRegression\n",
    "from sklearn.metrics import recall_score, confusion_matrix\n",
    "\n",
    "logit=LogisticRegression(random_state=123, solver='newton-cg', C=100000)\n",
    "logit.fit(train[var_list],train['VIP'])\n",
    "\n",
    "pred=logit.predict(test[var_list])\n",
    "\n",
    "round(recall_score(test['VIP'], pred, pos_label=1),2)\n",
    "\n",
    "\n",
    "# 답: 0.98"
   ]
  },
  {
   "cell_type": "code",
   "execution_count": 7,
   "id": "e4a76110",
   "metadata": {},
   "outputs": [
    {
     "data": {
      "text/plain": [
       "array([[  2259,  23025],\n",
       "       [  1890, 112336]], dtype=int64)"
      ]
     },
     "execution_count": 7,
     "metadata": {},
     "output_type": "execute_result"
    }
   ],
   "source": [
    "confusion_matrix(test['VIP'], pred)"
   ]
  },
  {
   "cell_type": "code",
   "execution_count": null,
   "id": "8b293b44-c879-4b85-abc5-8da6839691f3",
   "metadata": {},
   "outputs": [],
   "source": []
  },
  {
   "cell_type": "code",
   "execution_count": 10,
   "id": "7afed447-b0c5-4e72-b2f5-361f6b61de51",
   "metadata": {},
   "outputs": [
    {
     "data": {
      "text/plain": [
       "City_Category\n",
       "B    196563\n",
       "C    143378\n",
       "A    125401\n",
       "Name: count, dtype: int64"
      ]
     },
     "execution_count": 10,
     "metadata": {},
     "output_type": "execute_result"
    }
   ],
   "source": [
    "dat2.City_Category.value_counts()"
   ]
  },
  {
   "cell_type": "code",
   "execution_count": 12,
   "id": "c3b38bc7-3dd2-4ee6-a62a-799496976673",
   "metadata": {},
   "outputs": [
    {
     "data": {
      "text/html": [
       "<div>\n",
       "<style scoped>\n",
       "    .dataframe tbody tr th:only-of-type {\n",
       "        vertical-align: middle;\n",
       "    }\n",
       "\n",
       "    .dataframe tbody tr th {\n",
       "        vertical-align: top;\n",
       "    }\n",
       "\n",
       "    .dataframe thead th {\n",
       "        text-align: right;\n",
       "    }\n",
       "</style>\n",
       "<table border=\"1\" class=\"dataframe\">\n",
       "  <thead>\n",
       "    <tr style=\"text-align: right;\">\n",
       "      <th></th>\n",
       "      <th>User_ID</th>\n",
       "      <th>Product_ID</th>\n",
       "      <th>Gender</th>\n",
       "      <th>Age</th>\n",
       "      <th>City_Category_A</th>\n",
       "      <th>City_Category_B</th>\n",
       "      <th>City_Category_C</th>\n",
       "    </tr>\n",
       "  </thead>\n",
       "  <tbody>\n",
       "    <tr>\n",
       "      <th>0</th>\n",
       "      <td>1004918</td>\n",
       "      <td>P00251242</td>\n",
       "      <td>0</td>\n",
       "      <td>18-25</td>\n",
       "      <td>False</td>\n",
       "      <td>False</td>\n",
       "      <td>True</td>\n",
       "    </tr>\n",
       "    <tr>\n",
       "      <th>1</th>\n",
       "      <td>1004918</td>\n",
       "      <td>P00216342</td>\n",
       "      <td>0</td>\n",
       "      <td>18-25</td>\n",
       "      <td>False</td>\n",
       "      <td>False</td>\n",
       "      <td>True</td>\n",
       "    </tr>\n",
       "    <tr>\n",
       "      <th>2</th>\n",
       "      <td>1004918</td>\n",
       "      <td>P00154042</td>\n",
       "      <td>0</td>\n",
       "      <td>18-25</td>\n",
       "      <td>False</td>\n",
       "      <td>False</td>\n",
       "      <td>True</td>\n",
       "    </tr>\n",
       "    <tr>\n",
       "      <th>3</th>\n",
       "      <td>1004918</td>\n",
       "      <td>P00065442</td>\n",
       "      <td>0</td>\n",
       "      <td>18-25</td>\n",
       "      <td>False</td>\n",
       "      <td>False</td>\n",
       "      <td>True</td>\n",
       "    </tr>\n",
       "    <tr>\n",
       "      <th>4</th>\n",
       "      <td>1004918</td>\n",
       "      <td>P00343042</td>\n",
       "      <td>0</td>\n",
       "      <td>18-25</td>\n",
       "      <td>False</td>\n",
       "      <td>False</td>\n",
       "      <td>True</td>\n",
       "    </tr>\n",
       "    <tr>\n",
       "      <th>...</th>\n",
       "      <td>...</td>\n",
       "      <td>...</td>\n",
       "      <td>...</td>\n",
       "      <td>...</td>\n",
       "      <td>...</td>\n",
       "      <td>...</td>\n",
       "      <td>...</td>\n",
       "    </tr>\n",
       "    <tr>\n",
       "      <th>465337</th>\n",
       "      <td>1000761</td>\n",
       "      <td>P00350442</td>\n",
       "      <td>1</td>\n",
       "      <td>18-25</td>\n",
       "      <td>False</td>\n",
       "      <td>False</td>\n",
       "      <td>True</td>\n",
       "    </tr>\n",
       "    <tr>\n",
       "      <th>465338</th>\n",
       "      <td>1000761</td>\n",
       "      <td>P00372445</td>\n",
       "      <td>1</td>\n",
       "      <td>18-25</td>\n",
       "      <td>False</td>\n",
       "      <td>False</td>\n",
       "      <td>True</td>\n",
       "    </tr>\n",
       "    <tr>\n",
       "      <th>465339</th>\n",
       "      <td>1000761</td>\n",
       "      <td>P00057642</td>\n",
       "      <td>1</td>\n",
       "      <td>18-25</td>\n",
       "      <td>False</td>\n",
       "      <td>False</td>\n",
       "      <td>True</td>\n",
       "    </tr>\n",
       "    <tr>\n",
       "      <th>465340</th>\n",
       "      <td>1000761</td>\n",
       "      <td>P00293242</td>\n",
       "      <td>1</td>\n",
       "      <td>18-25</td>\n",
       "      <td>False</td>\n",
       "      <td>False</td>\n",
       "      <td>True</td>\n",
       "    </tr>\n",
       "    <tr>\n",
       "      <th>465341</th>\n",
       "      <td>1000761</td>\n",
       "      <td>P00173842</td>\n",
       "      <td>1</td>\n",
       "      <td>18-25</td>\n",
       "      <td>False</td>\n",
       "      <td>False</td>\n",
       "      <td>True</td>\n",
       "    </tr>\n",
       "  </tbody>\n",
       "</table>\n",
       "<p>465342 rows × 7 columns</p>\n",
       "</div>"
      ],
      "text/plain": [
       "        User_ID Product_ID  Gender    Age  City_Category_A  City_Category_B  \\\n",
       "0       1004918  P00251242       0  18-25            False            False   \n",
       "1       1004918  P00216342       0  18-25            False            False   \n",
       "2       1004918  P00154042       0  18-25            False            False   \n",
       "3       1004918  P00065442       0  18-25            False            False   \n",
       "4       1004918  P00343042       0  18-25            False            False   \n",
       "...         ...        ...     ...    ...              ...              ...   \n",
       "465337  1000761  P00350442       1  18-25            False            False   \n",
       "465338  1000761  P00372445       1  18-25            False            False   \n",
       "465339  1000761  P00057642       1  18-25            False            False   \n",
       "465340  1000761  P00293242       1  18-25            False            False   \n",
       "465341  1000761  P00173842       1  18-25            False            False   \n",
       "\n",
       "        City_Category_C  \n",
       "0                  True  \n",
       "1                  True  \n",
       "2                  True  \n",
       "3                  True  \n",
       "4                  True  \n",
       "...                 ...  \n",
       "465337             True  \n",
       "465338             True  \n",
       "465339             True  \n",
       "465340             True  \n",
       "465341             True  \n",
       "\n",
       "[465342 rows x 7 columns]"
      ]
     },
     "execution_count": 12,
     "metadata": {},
     "output_type": "execute_result"
    }
   ],
   "source": [
    "pd.get_dummies(dat2.iloc[:,:5], columns=['City_Category'])"
   ]
  },
  {
   "cell_type": "code",
   "execution_count": 13,
   "id": "68a721a7-3487-4b9e-ad73-ff3bb12f8044",
   "metadata": {},
   "outputs": [],
   "source": [
    "from sklearn.preprocessing import OneHotEncoder"
   ]
  },
  {
   "cell_type": "code",
   "execution_count": 21,
   "id": "dfe847e6-1aa8-4867-a306-57f791376d51",
   "metadata": {},
   "outputs": [],
   "source": [
    "onehot=OneHotEncoder(sparse_output=False).fit(dat2[['City_Category']])"
   ]
  },
  {
   "cell_type": "code",
   "execution_count": 22,
   "id": "1429f429-25e1-4212-b5df-3a748f8dc579",
   "metadata": {},
   "outputs": [],
   "source": [
    "onehot1=onehot.transform(dat2[['City_Category']])"
   ]
  },
  {
   "cell_type": "code",
   "execution_count": 23,
   "id": "aca50c36-1422-4069-875e-9617b9d6085e",
   "metadata": {},
   "outputs": [
    {
     "name": "stdout",
     "output_type": "stream",
     "text": [
      "[[0. 0. 1.]\n",
      " [0. 0. 1.]\n",
      " [0. 0. 1.]\n",
      " ...\n",
      " [0. 0. 1.]\n",
      " [0. 0. 1.]\n",
      " [0. 0. 1.]]\n"
     ]
    }
   ],
   "source": [
    "print(onehot1)"
   ]
  },
  {
   "cell_type": "code",
   "execution_count": null,
   "id": "8ef1deac-175a-426a-98b3-d82f74a5609b",
   "metadata": {},
   "outputs": [],
   "source": []
  }
 ],
 "metadata": {
  "kernelspec": {
   "display_name": "Python 3 (ipykernel)",
   "language": "python",
   "name": "python3"
  },
  "language_info": {
   "codemirror_mode": {
    "name": "ipython",
    "version": 3
   },
   "file_extension": ".py",
   "mimetype": "text/x-python",
   "name": "python",
   "nbconvert_exporter": "python",
   "pygments_lexer": "ipython3",
   "version": "3.12.7"
  }
 },
 "nbformat": 4,
 "nbformat_minor": 5
}
