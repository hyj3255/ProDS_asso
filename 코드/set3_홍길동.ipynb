{
 "cells": [
  {
   "cell_type": "code",
   "execution_count": 1,
   "id": "3c0d51cb-9923-4f71-9d36-977bf38b45a3",
   "metadata": {},
   "outputs": [],
   "source": [
    "import pandas as pd\n",
    "import numpy as np"
   ]
  },
  {
   "cell_type": "code",
   "execution_count": 3,
   "id": "8fec7f93-02fc-4450-8d23-2684c960e117",
   "metadata": {},
   "outputs": [
    {
     "data": {
      "text/html": [
       "<div>\n",
       "<style scoped>\n",
       "    .dataframe tbody tr th:only-of-type {\n",
       "        vertical-align: middle;\n",
       "    }\n",
       "\n",
       "    .dataframe tbody tr th {\n",
       "        vertical-align: top;\n",
       "    }\n",
       "\n",
       "    .dataframe thead th {\n",
       "        text-align: right;\n",
       "    }\n",
       "</style>\n",
       "<table border=\"1\" class=\"dataframe\">\n",
       "  <thead>\n",
       "    <tr style=\"text-align: right;\">\n",
       "      <th></th>\n",
       "      <th>long_hair</th>\n",
       "      <th>forehead_width_cm</th>\n",
       "      <th>forehead_height_cm</th>\n",
       "      <th>nose_wide</th>\n",
       "      <th>nose_long</th>\n",
       "      <th>lips_thin</th>\n",
       "      <th>distance_nose_to_lip_long</th>\n",
       "      <th>gender</th>\n",
       "    </tr>\n",
       "  </thead>\n",
       "  <tbody>\n",
       "    <tr>\n",
       "      <th>0</th>\n",
       "      <td>1</td>\n",
       "      <td>11.8</td>\n",
       "      <td>6.1</td>\n",
       "      <td>1</td>\n",
       "      <td>0</td>\n",
       "      <td>1</td>\n",
       "      <td>1</td>\n",
       "      <td>Male</td>\n",
       "    </tr>\n",
       "    <tr>\n",
       "      <th>1</th>\n",
       "      <td>0</td>\n",
       "      <td>14.0</td>\n",
       "      <td>5.4</td>\n",
       "      <td>0</td>\n",
       "      <td>0</td>\n",
       "      <td>1</td>\n",
       "      <td>0</td>\n",
       "      <td>Female</td>\n",
       "    </tr>\n",
       "    <tr>\n",
       "      <th>2</th>\n",
       "      <td>0</td>\n",
       "      <td>11.8</td>\n",
       "      <td>6.3</td>\n",
       "      <td>1</td>\n",
       "      <td>1</td>\n",
       "      <td>1</td>\n",
       "      <td>1</td>\n",
       "      <td>Male</td>\n",
       "    </tr>\n",
       "  </tbody>\n",
       "</table>\n",
       "</div>"
      ],
      "text/plain": [
       "   long_hair  forehead_width_cm  forehead_height_cm  nose_wide  nose_long  \\\n",
       "0          1               11.8                 6.1          1          0   \n",
       "1          0               14.0                 5.4          0          0   \n",
       "2          0               11.8                 6.3          1          1   \n",
       "\n",
       "   lips_thin  distance_nose_to_lip_long  gender  \n",
       "0          1                          1    Male  \n",
       "1          1                          0  Female  \n",
       "2          1                          1    Male  "
      ]
     },
     "execution_count": 3,
     "metadata": {},
     "output_type": "execute_result"
    }
   ],
   "source": [
    "dat3 = pd.read_csv('dataset/Dataset_03.csv')\n",
    "dat3.head(3)"
   ]
  },
  {
   "cell_type": "code",
   "execution_count": null,
   "id": "ae5f9449-8c47-4623-8aea-08c8d9a9be98",
   "metadata": {},
   "outputs": [],
   "source": [
    "# Q1"
   ]
  },
  {
   "cell_type": "code",
   "execution_count": 4,
   "id": "2df570d5-2c7f-4026-b31c-089501ac6572",
   "metadata": {},
   "outputs": [],
   "source": [
    "q1=dat3.copy()"
   ]
  },
  {
   "cell_type": "code",
   "execution_count": 5,
   "id": "f2b35925-f1b5-49ad-aaed-283c11b09794",
   "metadata": {},
   "outputs": [],
   "source": [
    "q1['forehead_ratio'] = q1['forehead_width_cm'] / q1['forehead_height_cm']\n",
    "\n",
    "xbar=q1['forehead_ratio'].mean()\n",
    "std2 = q1['forehead_ratio'].std()\n",
    "\n",
    "lb = xbar - 3 * std2 \n",
    "ub = xbar + 3 * std2"
   ]
  },
  {
   "cell_type": "code",
   "execution_count": 7,
   "id": "925ea0c0-24e6-4694-8d1e-b84612d5c851",
   "metadata": {},
   "outputs": [
    {
     "data": {
      "text/plain": [
       "3"
      ]
     },
     "execution_count": 7,
     "metadata": {},
     "output_type": "execute_result"
    }
   ],
   "source": [
    "# 이상치 판정 및 결과 \n",
    "((q1['forehead_ratio'] < lb) | (q1['forehead_ratio'] > ub)).sum()  # 답: 3"
   ]
  },
  {
   "cell_type": "code",
   "execution_count": 8,
   "id": "e030eb55-3890-4c2d-9eac-f22cb73b94de",
   "metadata": {},
   "outputs": [],
   "source": [
    "# Q2"
   ]
  },
  {
   "cell_type": "code",
   "execution_count": 9,
   "id": "383964c3-f94d-4c49-918a-8c3401415441",
   "metadata": {},
   "outputs": [],
   "source": [
    "gr_f = q1[q1['gender'] == 'Female']['forehead_ratio']\n",
    "gr_m = q1[q1['gender'] == 'Male']['forehead_ratio']"
   ]
  },
  {
   "cell_type": "code",
   "execution_count": 10,
   "id": "2e2dfb61-74b3-45aa-8b90-e4745421ee09",
   "metadata": {},
   "outputs": [],
   "source": [
    "from scipy.stats import ttest_ind"
   ]
  },
  {
   "cell_type": "code",
   "execution_count": 11,
   "id": "17ec7453-511e-4a36-b98a-40c793554090",
   "metadata": {},
   "outputs": [
    {
     "data": {
      "text/plain": [
       "TtestResult(statistic=-2.9994984197511543, pvalue=0.0027186702390657176, df=4619.829725747954)"
      ]
     },
     "execution_count": 11,
     "metadata": {},
     "output_type": "execute_result"
    }
   ],
   "source": [
    "ttest_ind(gr_f, gr_m, equal_var=False)  # 답: 2.999, Y\n",
    "# pvalue가 유의수준 0.01(신뢰수준 0.99, 99%)보다 작으므로 귀무가설을 기각한다."
   ]
  },
  {
   "cell_type": "code",
   "execution_count": null,
   "id": "783f457e-2f77-49ea-9194-872d6dd8335d",
   "metadata": {},
   "outputs": [],
   "source": [
    "# Q3"
   ]
  },
  {
   "cell_type": "code",
   "execution_count": 12,
   "id": "d35ad3a9-bd9d-4aba-81db-1c902fadfa34",
   "metadata": {},
   "outputs": [],
   "source": [
    "from sklearn.model_selection import train_test_split"
   ]
  },
  {
   "cell_type": "code",
   "execution_count": null,
   "id": "10869aa0-238c-42b7-b99c-475f5ad0999d",
   "metadata": {},
   "outputs": [],
   "source": [
    "# a, b, c, d=train_test_split(데이터셋, 데이터셋, ....,  random_state=123, train_size=0.7, test_size=0.3)"
   ]
  },
  {
   "cell_type": "code",
   "execution_count": 18,
   "id": "6e9e9dfb-7b06-410f-91b7-3cbae635a39b",
   "metadata": {},
   "outputs": [
    {
     "data": {
      "text/plain": [
       "[      long_hair  forehead_width_cm  forehead_height_cm  nose_wide  nose_long  \\\n",
       " 3991          1               12.5                 6.9          1          1   \n",
       " 4163          1               12.4                 5.3          1          1   \n",
       " 3274          1               12.7                 5.7          0          0   \n",
       " 2430          1               11.4                 5.9          0          0   \n",
       " 449           1               13.7                 5.8          1          1   \n",
       " ...         ...                ...                 ...        ...        ...   \n",
       " 1593          1               11.7                 5.6          0          0   \n",
       " 4060          1               13.7                 6.3          1          1   \n",
       " 1346          1               13.6                 5.8          0          0   \n",
       " 3454          0               12.7                 6.9          0          1   \n",
       " 3582          1               14.3                 5.3          0          1   \n",
       " \n",
       "       lips_thin  distance_nose_to_lip_long  gender  \n",
       " 3991          1                          0    Male  \n",
       " 4163          1                          1    Male  \n",
       " 3274          0                          0  Female  \n",
       " 2430          0                          0  Female  \n",
       " 449           1                          1    Male  \n",
       " ...         ...                        ...     ...  \n",
       " 1593          0                          0  Female  \n",
       " 4060          1                          1    Male  \n",
       " 1346          0                          0  Female  \n",
       " 3454          1                          1    Male  \n",
       " 3582          1                          1    Male  \n",
       " \n",
       " [3500 rows x 8 columns],\n",
       "       long_hair  forehead_width_cm  forehead_height_cm  nose_wide  nose_long  \\\n",
       " 2648          0               11.7                 6.8          1          1   \n",
       " 2456          1               14.6                 7.0          1          1   \n",
       " 4558          1               14.5                 5.8          1          1   \n",
       " 4885          1               11.9                 5.8          1          1   \n",
       " 92            1               13.3                 5.9          1          1   \n",
       " ...         ...                ...                 ...        ...        ...   \n",
       " 734           0               12.6                 6.1          1          1   \n",
       " 452           1               11.7                 6.4          0          0   \n",
       " 2558          1               13.6                 5.7          0          0   \n",
       " 1927          1               14.8                 6.9          1          1   \n",
       " 4037          1               15.1                 6.2          1          1   \n",
       " \n",
       "       lips_thin  distance_nose_to_lip_long  gender  \n",
       " 2648          0                          1    Male  \n",
       " 2456          1                          1    Male  \n",
       " 4558          0                          0    Male  \n",
       " 4885          1                          1    Male  \n",
       " 92            1                          1    Male  \n",
       " ...         ...                        ...     ...  \n",
       " 734           1                          1    Male  \n",
       " 452           0                          0  Female  \n",
       " 2558          0                          1  Female  \n",
       " 1927          1                          1    Male  \n",
       " 4037          1                          1    Male  \n",
       " \n",
       " [1501 rows x 8 columns]]"
      ]
     },
     "execution_count": 18,
     "metadata": {},
     "output_type": "execute_result"
    }
   ],
   "source": [
    "# 참고\n",
    "aa = train_test_split(dat3, test_size=0.3,random_state=123)\n",
    "aa"
   ]
  },
  {
   "cell_type": "code",
   "execution_count": 14,
   "id": "1af8ed5c-84aa-496f-bb61-09f27a2d7911",
   "metadata": {},
   "outputs": [],
   "source": [
    "train, test = train_test_split(dat3, test_size=0.3,random_state=123)"
   ]
  },
  {
   "cell_type": "code",
   "execution_count": 19,
   "id": "c3012a0b-058d-4e0f-804b-fc68bebeefc4",
   "metadata": {},
   "outputs": [
    {
     "data": {
      "text/plain": [
       "7"
      ]
     },
     "execution_count": 19,
     "metadata": {},
     "output_type": "execute_result"
    }
   ],
   "source": [
    "q3_list=train.columns.drop('gender')\n",
    "len(q3_list)"
   ]
  },
  {
   "cell_type": "code",
   "execution_count": 20,
   "id": "08794337-9c78-408b-954c-c63666452b7f",
   "metadata": {},
   "outputs": [],
   "source": [
    "from sklearn.linear_model import LogisticRegression"
   ]
  },
  {
   "cell_type": "code",
   "execution_count": 22,
   "id": "86ed3f49-04b0-4ac9-b28e-2ac2d5b54d75",
   "metadata": {},
   "outputs": [],
   "source": [
    "logit=LogisticRegression().fit(train[q3_list], train['gender'])"
   ]
  },
  {
   "cell_type": "code",
   "execution_count": 23,
   "id": "f7201957-6257-4420-91f6-5f37148a23af",
   "metadata": {},
   "outputs": [],
   "source": [
    "pred=logit.predict(test[q3_list])\n",
    "pred_pr=logit.predict_proba(test[q3_list])"
   ]
  },
  {
   "cell_type": "code",
   "execution_count": 24,
   "id": "920e1b16-2fb4-4ab7-9116-1a26bb25bc44",
   "metadata": {},
   "outputs": [
    {
     "data": {
      "text/plain": [
       "array(['Male', 'Male', 'Male', ..., 'Female', 'Male', 'Male'],\n",
       "      dtype=object)"
      ]
     },
     "execution_count": 24,
     "metadata": {},
     "output_type": "execute_result"
    }
   ],
   "source": [
    "pred"
   ]
  },
  {
   "cell_type": "code",
   "execution_count": 25,
   "id": "d05821ab-ae6c-40b0-9f31-a500a804bcd9",
   "metadata": {},
   "outputs": [
    {
     "data": {
      "text/plain": [
       "array([[2.11041432e-02, 9.78895857e-01],\n",
       "       [8.99948104e-05, 9.99910005e-01],\n",
       "       [2.54491572e-01, 7.45508428e-01],\n",
       "       ...,\n",
       "       [9.62866834e-01, 3.71331660e-02],\n",
       "       [8.55942084e-05, 9.99914406e-01],\n",
       "       [1.36473184e-04, 9.99863527e-01]])"
      ]
     },
     "execution_count": 25,
     "metadata": {},
     "output_type": "execute_result"
    }
   ],
   "source": [
    "pred_pr"
   ]
  },
  {
   "cell_type": "code",
   "execution_count": 26,
   "id": "3e5230b2-0848-4dfd-84b7-6d811efb5eaf",
   "metadata": {},
   "outputs": [],
   "source": [
    "from sklearn import metrics"
   ]
  },
  {
   "cell_type": "code",
   "execution_count": 27,
   "id": "0aed8a20-fcc4-4c52-b079-d4c14527f107",
   "metadata": {},
   "outputs": [
    {
     "data": {
      "text/plain": [
       "0.9608865710560626"
      ]
     },
     "execution_count": 27,
     "metadata": {},
     "output_type": "execute_result"
    }
   ],
   "source": [
    "metrics.precision_score(test['gender'], pred, pos_label='Male') # 답: 0.96"
   ]
  },
  {
   "cell_type": "code",
   "execution_count": 29,
   "id": "f75d10c8-e2ee-4c8b-9ee0-31daf37909e6",
   "metadata": {},
   "outputs": [
    {
     "name": "stdout",
     "output_type": "stream",
     "text": [
      "              precision    recall  f1-score   support\n",
      "\n",
      "      Female       0.97      0.96      0.97       743\n",
      "        Male       0.96      0.97      0.97       758\n",
      "\n",
      "    accuracy                           0.97      1501\n",
      "   macro avg       0.97      0.97      0.97      1501\n",
      "weighted avg       0.97      0.97      0.97      1501\n",
      "\n"
     ]
    }
   ],
   "source": [
    "print(metrics.classification_report(test['gender'], pred))"
   ]
  },
  {
   "cell_type": "code",
   "execution_count": null,
   "id": "04dceacd-bde7-4379-9455-980d0c002abd",
   "metadata": {},
   "outputs": [],
   "source": []
  }
 ],
 "metadata": {
  "kernelspec": {
   "display_name": "Python 3 (ipykernel)",
   "language": "python",
   "name": "python3"
  },
  "language_info": {
   "codemirror_mode": {
    "name": "ipython",
    "version": 3
   },
   "file_extension": ".py",
   "mimetype": "text/x-python",
   "name": "python",
   "nbconvert_exporter": "python",
   "pygments_lexer": "ipython3",
   "version": "3.12.7"
  }
 },
 "nbformat": 4,
 "nbformat_minor": 5
}
