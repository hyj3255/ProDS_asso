{
 "cells": [
  {
   "cell_type": "code",
   "execution_count": 1,
   "id": "c808f5cb-bb10-4bac-a558-f904c42045f9",
   "metadata": {},
   "outputs": [],
   "source": [
    "import pandas as pd\n",
    "import numpy as np"
   ]
  },
  {
   "cell_type": "code",
   "execution_count": 2,
   "id": "bc6fff10-666a-402f-aa10-8bf59807a945",
   "metadata": {},
   "outputs": [
    {
     "data": {
      "text/html": [
       "<div>\n",
       "<style scoped>\n",
       "    .dataframe tbody tr th:only-of-type {\n",
       "        vertical-align: middle;\n",
       "    }\n",
       "\n",
       "    .dataframe tbody tr th {\n",
       "        vertical-align: top;\n",
       "    }\n",
       "\n",
       "    .dataframe thead th {\n",
       "        text-align: right;\n",
       "    }\n",
       "</style>\n",
       "<table border=\"1\" class=\"dataframe\">\n",
       "  <thead>\n",
       "    <tr style=\"text-align: right;\">\n",
       "      <th></th>\n",
       "      <th>id</th>\n",
       "      <th>date</th>\n",
       "      <th>price</th>\n",
       "      <th>bedrooms</th>\n",
       "      <th>bathrooms</th>\n",
       "      <th>sqft_living</th>\n",
       "      <th>sqft_lot</th>\n",
       "      <th>floors</th>\n",
       "      <th>waterfront</th>\n",
       "      <th>view</th>\n",
       "      <th>condition</th>\n",
       "      <th>grade</th>\n",
       "      <th>sqft_above</th>\n",
       "      <th>sqft_basement</th>\n",
       "      <th>yr_built</th>\n",
       "      <th>yr_renovated</th>\n",
       "      <th>zipcode</th>\n",
       "      <th>sqft_living15</th>\n",
       "      <th>sqft_lot15</th>\n",
       "    </tr>\n",
       "  </thead>\n",
       "  <tbody>\n",
       "    <tr>\n",
       "      <th>0</th>\n",
       "      <td>2597000006</td>\n",
       "      <td>20150309T000000</td>\n",
       "      <td>347500.0</td>\n",
       "      <td>3</td>\n",
       "      <td>1.50</td>\n",
       "      <td>1180</td>\n",
       "      <td>8353</td>\n",
       "      <td>1.0</td>\n",
       "      <td>0</td>\n",
       "      <td>0</td>\n",
       "      <td>3</td>\n",
       "      <td>7</td>\n",
       "      <td>1180</td>\n",
       "      <td>0</td>\n",
       "      <td>1960</td>\n",
       "      <td>0</td>\n",
       "      <td>98155</td>\n",
       "      <td>1710</td>\n",
       "      <td>8748</td>\n",
       "    </tr>\n",
       "    <tr>\n",
       "      <th>1</th>\n",
       "      <td>8813400345</td>\n",
       "      <td>20150414T000000</td>\n",
       "      <td>575000.0</td>\n",
       "      <td>2</td>\n",
       "      <td>1.00</td>\n",
       "      <td>980</td>\n",
       "      <td>3663</td>\n",
       "      <td>1.0</td>\n",
       "      <td>0</td>\n",
       "      <td>0</td>\n",
       "      <td>5</td>\n",
       "      <td>7</td>\n",
       "      <td>980</td>\n",
       "      <td>0</td>\n",
       "      <td>1909</td>\n",
       "      <td>0</td>\n",
       "      <td>98105</td>\n",
       "      <td>1620</td>\n",
       "      <td>3706</td>\n",
       "    </tr>\n",
       "    <tr>\n",
       "      <th>2</th>\n",
       "      <td>226059106</td>\n",
       "      <td>20150102T000000</td>\n",
       "      <td>489500.0</td>\n",
       "      <td>3</td>\n",
       "      <td>1.75</td>\n",
       "      <td>2090</td>\n",
       "      <td>65558</td>\n",
       "      <td>1.0</td>\n",
       "      <td>0</td>\n",
       "      <td>0</td>\n",
       "      <td>3</td>\n",
       "      <td>8</td>\n",
       "      <td>1330</td>\n",
       "      <td>760</td>\n",
       "      <td>1977</td>\n",
       "      <td>0</td>\n",
       "      <td>98072</td>\n",
       "      <td>2450</td>\n",
       "      <td>47178</td>\n",
       "    </tr>\n",
       "  </tbody>\n",
       "</table>\n",
       "</div>"
      ],
      "text/plain": [
       "           id             date     price  bedrooms  bathrooms  sqft_living  \\\n",
       "0  2597000006  20150309T000000  347500.0         3       1.50         1180   \n",
       "1  8813400345  20150414T000000  575000.0         2       1.00          980   \n",
       "2   226059106  20150102T000000  489500.0         3       1.75         2090   \n",
       "\n",
       "   sqft_lot  floors  waterfront  view  condition  grade  sqft_above  \\\n",
       "0      8353     1.0           0     0          3      7        1180   \n",
       "1      3663     1.0           0     0          5      7         980   \n",
       "2     65558     1.0           0     0          3      8        1330   \n",
       "\n",
       "   sqft_basement  yr_built  yr_renovated  zipcode  sqft_living15  sqft_lot15  \n",
       "0              0      1960             0    98155           1710        8748  \n",
       "1              0      1909             0    98105           1620        3706  \n",
       "2            760      1977             0    98072           2450       47178  "
      ]
     },
     "execution_count": 2,
     "metadata": {},
     "output_type": "execute_result"
    }
   ],
   "source": [
    "dat6=pd.read_csv('dataset/Dataset_06.csv')\n",
    "dat6.head(3)"
   ]
  },
  {
   "cell_type": "code",
   "execution_count": 3,
   "id": "f32dd976-cbb2-4a83-84b3-eb6044931eae",
   "metadata": {},
   "outputs": [
    {
     "name": "stdout",
     "output_type": "stream",
     "text": [
      "<class 'pandas.core.frame.DataFrame'>\n",
      "RangeIndex: 4323 entries, 0 to 4322\n",
      "Data columns (total 19 columns):\n",
      " #   Column         Non-Null Count  Dtype  \n",
      "---  ------         --------------  -----  \n",
      " 0   id             4323 non-null   int64  \n",
      " 1   date           4323 non-null   object \n",
      " 2   price          4323 non-null   float64\n",
      " 3   bedrooms       4323 non-null   int64  \n",
      " 4   bathrooms      4323 non-null   float64\n",
      " 5   sqft_living    4323 non-null   int64  \n",
      " 6   sqft_lot       4323 non-null   int64  \n",
      " 7   floors         4323 non-null   float64\n",
      " 8   waterfront     4323 non-null   int64  \n",
      " 9   view           4323 non-null   int64  \n",
      " 10  condition      4323 non-null   int64  \n",
      " 11  grade          4323 non-null   int64  \n",
      " 12  sqft_above     4323 non-null   int64  \n",
      " 13  sqft_basement  4323 non-null   int64  \n",
      " 14  yr_built       4323 non-null   int64  \n",
      " 15  yr_renovated   4323 non-null   int64  \n",
      " 16  zipcode        4323 non-null   int64  \n",
      " 17  sqft_living15  4323 non-null   int64  \n",
      " 18  sqft_lot15     4323 non-null   int64  \n",
      "dtypes: float64(3), int64(15), object(1)\n",
      "memory usage: 641.8+ KB\n"
     ]
    }
   ],
   "source": [
    "dat6.info()"
   ]
  },
  {
   "cell_type": "code",
   "execution_count": 4,
   "id": "bc514a31-954c-464d-b53f-ec0096279130",
   "metadata": {},
   "outputs": [
    {
     "data": {
      "text/plain": [
       "waterfront\n",
       "0    4290\n",
       "1      33\n",
       "Name: count, dtype: int64"
      ]
     },
     "execution_count": 4,
     "metadata": {},
     "output_type": "execute_result"
    }
   ],
   "source": [
    "# Q1\n",
    "dat6.waterfront.value_counts()\n"
   ]
  },
  {
   "cell_type": "code",
   "execution_count": 6,
   "id": "d19dd8b8-1329-4368-a8be-21df951a20e7",
   "metadata": {},
   "outputs": [
    {
     "data": {
      "text/plain": [
       "1167272.748018648"
      ]
     },
     "execution_count": 6,
     "metadata": {},
     "output_type": "execute_result"
    }
   ],
   "source": [
    "# Q1 답\n",
    "abs(dat6[dat6.waterfront == 0]['price'].mean()-dat6[dat6.waterfront == 1]['price'].mean())"
   ]
  },
  {
   "cell_type": "code",
   "execution_count": 7,
   "id": "0f451469-8883-49a9-9e89-12f83bf0b5e7",
   "metadata": {},
   "outputs": [],
   "source": [
    "# Q2\n",
    "q2_list=['price', 'bedrooms', 'bathrooms', 'sqft_living', 'sqft_lot', 'floors', 'yr_built']"
   ]
  },
  {
   "cell_type": "code",
   "execution_count": 11,
   "id": "69f74988-1ab3-40fb-9383-72cd5b4fce3a",
   "metadata": {},
   "outputs": [
    {
     "data": {
      "text/plain": [
       "bedrooms       0.279824\n",
       "bathrooms      0.534277\n",
       "sqft_living    0.709157\n",
       "sqft_lot       0.106341\n",
       "floors         0.270423\n",
       "yr_built       0.059895\n",
       "Name: price, dtype: float64"
      ]
     },
     "execution_count": 11,
     "metadata": {},
     "output_type": "execute_result"
    }
   ],
   "source": [
    "q2=dat6[q2_list].corr()['price'].drop('price')\n",
    "q2"
   ]
  },
  {
   "cell_type": "code",
   "execution_count": 12,
   "id": "1468ae0f-7039-45fc-8af0-0e95c0b77b4e",
   "metadata": {},
   "outputs": [
    {
     "data": {
      "text/plain": [
       "('sqft_living', 'yr_built')"
      ]
     },
     "execution_count": 12,
     "metadata": {},
     "output_type": "execute_result"
    }
   ],
   "source": [
    "# Q2 답\n",
    "q2.idxmax(), q2.idxmin()"
   ]
  },
  {
   "cell_type": "code",
   "execution_count": 13,
   "id": "9f012482-e26f-46a1-82ae-e93802d5b471",
   "metadata": {},
   "outputs": [
    {
     "data": {
      "text/plain": [
       "Index(['bedrooms', 'bathrooms', 'sqft_living', 'sqft_lot', 'floors',\n",
       "       'waterfront', 'view', 'condition', 'grade', 'sqft_above',\n",
       "       'sqft_basement', 'yr_built', 'yr_renovated', 'sqft_living15',\n",
       "       'sqft_lot15'],\n",
       "      dtype='object')"
      ]
     },
     "execution_count": 13,
     "metadata": {},
     "output_type": "execute_result"
    }
   ],
   "source": [
    "# Q3\n",
    "q3_list=dat6.columns.drop(['id', 'date', 'zipcode', 'price'])\n",
    "q3_list\n"
   ]
  },
  {
   "cell_type": "code",
   "execution_count": 14,
   "id": "3de26abe-d73e-48e1-9a10-063c28b4cffa",
   "metadata": {},
   "outputs": [
    {
     "data": {
      "text/plain": [
       "15"
      ]
     },
     "execution_count": 14,
     "metadata": {},
     "output_type": "execute_result"
    }
   ],
   "source": [
    "len(q3_list) # 데이터 수 확인"
   ]
  },
  {
   "cell_type": "code",
   "execution_count": 15,
   "id": "911f49d6-21e6-41e8-bae0-19afb9c4b701",
   "metadata": {},
   "outputs": [],
   "source": [
    "from statsmodels.formula.api import ols"
   ]
  },
  {
   "cell_type": "code",
   "execution_count": 16,
   "id": "79279500-e43b-4465-a973-c5ed185bbb7e",
   "metadata": {},
   "outputs": [
    {
     "data": {
      "text/plain": [
       "\u001b[1;31mSignature:\u001b[0m  \u001b[0mols\u001b[0m\u001b[1;33m(\u001b[0m\u001b[0mformula\u001b[0m\u001b[1;33m,\u001b[0m \u001b[0mdata\u001b[0m\u001b[1;33m,\u001b[0m \u001b[0msubset\u001b[0m\u001b[1;33m=\u001b[0m\u001b[1;32mNone\u001b[0m\u001b[1;33m,\u001b[0m \u001b[0mdrop_cols\u001b[0m\u001b[1;33m=\u001b[0m\u001b[1;32mNone\u001b[0m\u001b[1;33m,\u001b[0m \u001b[1;33m*\u001b[0m\u001b[0margs\u001b[0m\u001b[1;33m,\u001b[0m \u001b[1;33m**\u001b[0m\u001b[0mkwargs\u001b[0m\u001b[1;33m)\u001b[0m\u001b[1;33m\u001b[0m\u001b[1;33m\u001b[0m\u001b[0m\n",
       "\u001b[1;31mDocstring:\u001b[0m\n",
       "Create a Model from a formula and dataframe.\n",
       "\n",
       "Parameters\n",
       "----------\n",
       "formula : str or generic Formula object\n",
       "    The formula specifying the model.\n",
       "data : array_like\n",
       "    The data for the model. See Notes.\n",
       "subset : array_like\n",
       "    An array-like object of booleans, integers, or index values that\n",
       "    indicate the subset of df to use in the model. Assumes df is a\n",
       "    `pandas.DataFrame`.\n",
       "drop_cols : array_like\n",
       "    Columns to drop from the design matrix.  Cannot be used to\n",
       "    drop terms involving categoricals.\n",
       "*args\n",
       "    Additional positional argument that are passed to the model.\n",
       "**kwargs\n",
       "    These are passed to the model with one exception. The\n",
       "    ``eval_env`` keyword is passed to patsy. It can be either a\n",
       "    :class:`patsy:patsy.EvalEnvironment` object or an integer\n",
       "    indicating the depth of the namespace to use. For example, the\n",
       "    default ``eval_env=0`` uses the calling namespace. If you wish\n",
       "    to use a \"clean\" environment set ``eval_env=-1``.\n",
       "\n",
       "Returns\n",
       "-------\n",
       "model\n",
       "    The model instance.\n",
       "\n",
       "Notes\n",
       "-----\n",
       "data must define __getitem__ with the keys in the formula terms\n",
       "args and kwargs are passed on to the model instantiation. E.g.,\n",
       "a numpy structured or rec array, a dictionary, or a pandas DataFrame.\n",
       "\u001b[1;31mFile:\u001b[0m      c:\\users\\user\\anaconda3\\lib\\site-packages\\statsmodels\\base\\model.py\n",
       "\u001b[1;31mType:\u001b[0m      method"
      ]
     },
     "metadata": {},
     "output_type": "display_data"
    }
   ],
   "source": [
    "# ols(식, 데이터셋)\n",
    "# ols('y~x1+C(x2)+x3', 데이터셋)"
   ]
  },
  {
   "cell_type": "code",
   "execution_count": 17,
   "id": "92199515-93db-433e-8560-18f5eeec7d9c",
   "metadata": {},
   "outputs": [
    {
     "data": {
      "text/plain": [
       "'x+yt+qw'"
      ]
     },
     "execution_count": 17,
     "metadata": {},
     "output_type": "execute_result"
    }
   ],
   "source": [
    "a=['x', 'yt', 'qw']\n",
    "'+'.join(a)"
   ]
  },
  {
   "cell_type": "code",
   "execution_count": 18,
   "id": "635af04b-5696-4bc9-8ab6-00859920021f",
   "metadata": {},
   "outputs": [
    {
     "data": {
      "text/plain": [
       "'sdqq'"
      ]
     },
     "execution_count": 18,
     "metadata": {},
     "output_type": "execute_result"
    }
   ],
   "source": [
    "'sd'+'qq'  # 문자열 + 문자열"
   ]
  },
  {
   "cell_type": "code",
   "execution_count": 20,
   "id": "b77a562a-d0dd-4619-87da-9d7774f44f1f",
   "metadata": {},
   "outputs": [
    {
     "data": {
      "text/plain": [
       "'price~bedrooms+bathrooms+sqft_living+sqft_lot+floors+waterfront+view+condition+grade+sqft_above+sqft_basement+yr_built+yr_renovated+sqft_living15+sqft_lot15'"
      ]
     },
     "execution_count": 20,
     "metadata": {},
     "output_type": "execute_result"
    }
   ],
   "source": [
    "q3_form='price~' + '+'.join(q3_list)\n",
    "q3_form"
   ]
  },
  {
   "cell_type": "code",
   "execution_count": 21,
   "id": "618dea59-16f0-48a6-9750-8f334305b011",
   "metadata": {},
   "outputs": [],
   "source": [
    "q3_lm_out=ols(q3_form, dat6).fit()"
   ]
  },
  {
   "cell_type": "code",
   "execution_count": 22,
   "id": "94c1cc34-e246-4328-ba6b-8348606d3b44",
   "metadata": {},
   "outputs": [
    {
     "data": {
      "text/plain": [
       "<statsmodels.regression.linear_model.RegressionResultsWrapper at 0x1e6e6eb3b30>"
      ]
     },
     "execution_count": 22,
     "metadata": {},
     "output_type": "execute_result"
    }
   ],
   "source": [
    "q3_lm_out"
   ]
  },
  {
   "cell_type": "code",
   "execution_count": 23,
   "id": "022c4621-3a0c-4c68-91b3-f5214ea602e4",
   "metadata": {},
   "outputs": [
    {
     "data": {
      "text/html": [
       "<table class=\"simpletable\">\n",
       "<caption>OLS Regression Results</caption>\n",
       "<tr>\n",
       "  <th>Dep. Variable:</th>          <td>price</td>      <th>  R-squared:         </th> <td>   0.681</td> \n",
       "</tr>\n",
       "<tr>\n",
       "  <th>Model:</th>                   <td>OLS</td>       <th>  Adj. R-squared:    </th> <td>   0.680</td> \n",
       "</tr>\n",
       "<tr>\n",
       "  <th>Method:</th>             <td>Least Squares</td>  <th>  F-statistic:       </th> <td>   656.0</td> \n",
       "</tr>\n",
       "<tr>\n",
       "  <th>Date:</th>             <td>Thu, 27 Mar 2025</td> <th>  Prob (F-statistic):</th>  <td>  0.00</td>  \n",
       "</tr>\n",
       "<tr>\n",
       "  <th>Time:</th>                 <td>14:52:41</td>     <th>  Log-Likelihood:    </th> <td> -58960.</td> \n",
       "</tr>\n",
       "<tr>\n",
       "  <th>No. Observations:</th>      <td>  4323</td>      <th>  AIC:               </th> <td>1.180e+05</td>\n",
       "</tr>\n",
       "<tr>\n",
       "  <th>Df Residuals:</th>          <td>  4308</td>      <th>  BIC:               </th> <td>1.180e+05</td>\n",
       "</tr>\n",
       "<tr>\n",
       "  <th>Df Model:</th>              <td>    14</td>      <th>                     </th>     <td> </td>    \n",
       "</tr>\n",
       "<tr>\n",
       "  <th>Covariance Type:</th>      <td>nonrobust</td>    <th>                     </th>     <td> </td>    \n",
       "</tr>\n",
       "</table>\n",
       "<table class=\"simpletable\">\n",
       "<tr>\n",
       "        <td></td>           <th>coef</th>     <th>std err</th>      <th>t</th>      <th>P>|t|</th>  <th>[0.025</th>    <th>0.975]</th>  \n",
       "</tr>\n",
       "<tr>\n",
       "  <th>Intercept</th>     <td> 6.302e+06</td> <td> 2.95e+05</td> <td>   21.401</td> <td> 0.000</td> <td> 5.73e+06</td> <td> 6.88e+06</td>\n",
       "</tr>\n",
       "<tr>\n",
       "  <th>bedrooms</th>      <td>  -2.5e+04</td> <td> 3680.510</td> <td>   -6.791</td> <td> 0.000</td> <td>-3.22e+04</td> <td>-1.78e+04</td>\n",
       "</tr>\n",
       "<tr>\n",
       "  <th>bathrooms</th>     <td> 5.179e+04</td> <td> 7163.408</td> <td>    7.230</td> <td> 0.000</td> <td> 3.77e+04</td> <td> 6.58e+04</td>\n",
       "</tr>\n",
       "<tr>\n",
       "  <th>sqft_living</th>   <td>   92.3081</td> <td>    5.074</td> <td>   18.192</td> <td> 0.000</td> <td>   82.360</td> <td>  102.256</td>\n",
       "</tr>\n",
       "<tr>\n",
       "  <th>sqft_lot</th>      <td>    0.0054</td> <td>    0.093</td> <td>    0.059</td> <td> 0.953</td> <td>   -0.176</td> <td>    0.187</td>\n",
       "</tr>\n",
       "<tr>\n",
       "  <th>floors</th>        <td> 3.748e+04</td> <td> 8141.392</td> <td>    4.604</td> <td> 0.000</td> <td> 2.15e+04</td> <td> 5.34e+04</td>\n",
       "</tr>\n",
       "<tr>\n",
       "  <th>waterfront</th>    <td> 6.277e+05</td> <td> 3.91e+04</td> <td>   16.064</td> <td> 0.000</td> <td> 5.51e+05</td> <td> 7.04e+05</td>\n",
       "</tr>\n",
       "<tr>\n",
       "  <th>view</th>          <td>  4.04e+04</td> <td> 4797.344</td> <td>    8.421</td> <td> 0.000</td> <td>  3.1e+04</td> <td> 4.98e+04</td>\n",
       "</tr>\n",
       "<tr>\n",
       "  <th>condition</th>     <td> 1.571e+04</td> <td> 5317.387</td> <td>    2.954</td> <td> 0.003</td> <td> 5280.918</td> <td> 2.61e+04</td>\n",
       "</tr>\n",
       "<tr>\n",
       "  <th>grade</th>         <td> 1.306e+05</td> <td> 4700.604</td> <td>   27.789</td> <td> 0.000</td> <td> 1.21e+05</td> <td>  1.4e+05</td>\n",
       "</tr>\n",
       "<tr>\n",
       "  <th>sqft_above</th>    <td>   33.7358</td> <td>    4.981</td> <td>    6.773</td> <td> 0.000</td> <td>   23.971</td> <td>   43.501</td>\n",
       "</tr>\n",
       "<tr>\n",
       "  <th>sqft_basement</th> <td>   58.5722</td> <td>    5.840</td> <td>   10.030</td> <td> 0.000</td> <td>   47.123</td> <td>   70.021</td>\n",
       "</tr>\n",
       "<tr>\n",
       "  <th>yr_built</th>      <td>-3666.8957</td> <td>  150.805</td> <td>  -24.316</td> <td> 0.000</td> <td>-3962.551</td> <td>-3371.241</td>\n",
       "</tr>\n",
       "<tr>\n",
       "  <th>yr_renovated</th>  <td>   17.7032</td> <td>    8.265</td> <td>    2.142</td> <td> 0.032</td> <td>    1.499</td> <td>   33.908</td>\n",
       "</tr>\n",
       "<tr>\n",
       "  <th>sqft_living15</th> <td>   23.0114</td> <td>    7.561</td> <td>    3.044</td> <td> 0.002</td> <td>    8.188</td> <td>   37.834</td>\n",
       "</tr>\n",
       "<tr>\n",
       "  <th>sqft_lot15</th>    <td>   -0.2323</td> <td>    0.142</td> <td>   -1.637</td> <td> 0.102</td> <td>   -0.511</td> <td>    0.046</td>\n",
       "</tr>\n",
       "</table>\n",
       "<table class=\"simpletable\">\n",
       "<tr>\n",
       "  <th>Omnibus:</th>       <td>2170.721</td> <th>  Durbin-Watson:     </th> <td>   2.011</td> \n",
       "</tr>\n",
       "<tr>\n",
       "  <th>Prob(Omnibus):</th>  <td> 0.000</td>  <th>  Jarque-Bera (JB):  </th> <td>38362.875</td>\n",
       "</tr>\n",
       "<tr>\n",
       "  <th>Skew:</th>           <td> 1.971</td>  <th>  Prob(JB):          </th> <td>    0.00</td> \n",
       "</tr>\n",
       "<tr>\n",
       "  <th>Kurtosis:</th>       <td>17.051</td>  <th>  Cond. No.          </th> <td>1.67e+17</td> \n",
       "</tr>\n",
       "</table><br/><br/>Notes:<br/>[1] Standard Errors assume that the covariance matrix of the errors is correctly specified.<br/>[2] The smallest eigenvalue is 5.83e-22. This might indicate that there are<br/>strong multicollinearity problems or that the design matrix is singular."
      ],
      "text/latex": [
       "\\begin{center}\n",
       "\\begin{tabular}{lclc}\n",
       "\\toprule\n",
       "\\textbf{Dep. Variable:}    &      price       & \\textbf{  R-squared:         } &     0.681   \\\\\n",
       "\\textbf{Model:}            &       OLS        & \\textbf{  Adj. R-squared:    } &     0.680   \\\\\n",
       "\\textbf{Method:}           &  Least Squares   & \\textbf{  F-statistic:       } &     656.0   \\\\\n",
       "\\textbf{Date:}             & Thu, 27 Mar 2025 & \\textbf{  Prob (F-statistic):} &     0.00    \\\\\n",
       "\\textbf{Time:}             &     14:52:41     & \\textbf{  Log-Likelihood:    } &   -58960.   \\\\\n",
       "\\textbf{No. Observations:} &        4323      & \\textbf{  AIC:               } & 1.180e+05   \\\\\n",
       "\\textbf{Df Residuals:}     &        4308      & \\textbf{  BIC:               } & 1.180e+05   \\\\\n",
       "\\textbf{Df Model:}         &          14      & \\textbf{                     } &             \\\\\n",
       "\\textbf{Covariance Type:}  &    nonrobust     & \\textbf{                     } &             \\\\\n",
       "\\bottomrule\n",
       "\\end{tabular}\n",
       "\\begin{tabular}{lcccccc}\n",
       "                        & \\textbf{coef} & \\textbf{std err} & \\textbf{t} & \\textbf{P$> |$t$|$} & \\textbf{[0.025} & \\textbf{0.975]}  \\\\\n",
       "\\midrule\n",
       "\\textbf{Intercept}      &    6.302e+06  &     2.95e+05     &    21.401  &         0.000        &     5.73e+06    &     6.88e+06     \\\\\n",
       "\\textbf{bedrooms}       &     -2.5e+04  &     3680.510     &    -6.791  &         0.000        &    -3.22e+04    &    -1.78e+04     \\\\\n",
       "\\textbf{bathrooms}      &    5.179e+04  &     7163.408     &     7.230  &         0.000        &     3.77e+04    &     6.58e+04     \\\\\n",
       "\\textbf{sqft\\_living}   &      92.3081  &        5.074     &    18.192  &         0.000        &       82.360    &      102.256     \\\\\n",
       "\\textbf{sqft\\_lot}      &       0.0054  &        0.093     &     0.059  &         0.953        &       -0.176    &        0.187     \\\\\n",
       "\\textbf{floors}         &    3.748e+04  &     8141.392     &     4.604  &         0.000        &     2.15e+04    &     5.34e+04     \\\\\n",
       "\\textbf{waterfront}     &    6.277e+05  &     3.91e+04     &    16.064  &         0.000        &     5.51e+05    &     7.04e+05     \\\\\n",
       "\\textbf{view}           &     4.04e+04  &     4797.344     &     8.421  &         0.000        &      3.1e+04    &     4.98e+04     \\\\\n",
       "\\textbf{condition}      &    1.571e+04  &     5317.387     &     2.954  &         0.003        &     5280.918    &     2.61e+04     \\\\\n",
       "\\textbf{grade}          &    1.306e+05  &     4700.604     &    27.789  &         0.000        &     1.21e+05    &      1.4e+05     \\\\\n",
       "\\textbf{sqft\\_above}    &      33.7358  &        4.981     &     6.773  &         0.000        &       23.971    &       43.501     \\\\\n",
       "\\textbf{sqft\\_basement} &      58.5722  &        5.840     &    10.030  &         0.000        &       47.123    &       70.021     \\\\\n",
       "\\textbf{yr\\_built}      &   -3666.8957  &      150.805     &   -24.316  &         0.000        &    -3962.551    &    -3371.241     \\\\\n",
       "\\textbf{yr\\_renovated}  &      17.7032  &        8.265     &     2.142  &         0.032        &        1.499    &       33.908     \\\\\n",
       "\\textbf{sqft\\_living15} &      23.0114  &        7.561     &     3.044  &         0.002        &        8.188    &       37.834     \\\\\n",
       "\\textbf{sqft\\_lot15}    &      -0.2323  &        0.142     &    -1.637  &         0.102        &       -0.511    &        0.046     \\\\\n",
       "\\bottomrule\n",
       "\\end{tabular}\n",
       "\\begin{tabular}{lclc}\n",
       "\\textbf{Omnibus:}       & 2170.721 & \\textbf{  Durbin-Watson:     } &     2.011  \\\\\n",
       "\\textbf{Prob(Omnibus):} &   0.000  & \\textbf{  Jarque-Bera (JB):  } & 38362.875  \\\\\n",
       "\\textbf{Skew:}          &   1.971  & \\textbf{  Prob(JB):          } &      0.00  \\\\\n",
       "\\textbf{Kurtosis:}      &  17.051  & \\textbf{  Cond. No.          } &  1.67e+17  \\\\\n",
       "\\bottomrule\n",
       "\\end{tabular}\n",
       "%\\caption{OLS Regression Results}\n",
       "\\end{center}\n",
       "\n",
       "Notes: \\newline\n",
       " [1] Standard Errors assume that the covariance matrix of the errors is correctly specified. \\newline\n",
       " [2] The smallest eigenvalue is 5.83e-22. This might indicate that there are \\newline\n",
       " strong multicollinearity problems or that the design matrix is singular."
      ],
      "text/plain": [
       "<class 'statsmodels.iolib.summary.Summary'>\n",
       "\"\"\"\n",
       "                            OLS Regression Results                            \n",
       "==============================================================================\n",
       "Dep. Variable:                  price   R-squared:                       0.681\n",
       "Model:                            OLS   Adj. R-squared:                  0.680\n",
       "Method:                 Least Squares   F-statistic:                     656.0\n",
       "Date:                Thu, 27 Mar 2025   Prob (F-statistic):               0.00\n",
       "Time:                        14:52:41   Log-Likelihood:                -58960.\n",
       "No. Observations:                4323   AIC:                         1.180e+05\n",
       "Df Residuals:                    4308   BIC:                         1.180e+05\n",
       "Df Model:                          14                                         \n",
       "Covariance Type:            nonrobust                                         \n",
       "=================================================================================\n",
       "                    coef    std err          t      P>|t|      [0.025      0.975]\n",
       "---------------------------------------------------------------------------------\n",
       "Intercept      6.302e+06   2.95e+05     21.401      0.000    5.73e+06    6.88e+06\n",
       "bedrooms        -2.5e+04   3680.510     -6.791      0.000   -3.22e+04   -1.78e+04\n",
       "bathrooms      5.179e+04   7163.408      7.230      0.000    3.77e+04    6.58e+04\n",
       "sqft_living      92.3081      5.074     18.192      0.000      82.360     102.256\n",
       "sqft_lot          0.0054      0.093      0.059      0.953      -0.176       0.187\n",
       "floors         3.748e+04   8141.392      4.604      0.000    2.15e+04    5.34e+04\n",
       "waterfront     6.277e+05   3.91e+04     16.064      0.000    5.51e+05    7.04e+05\n",
       "view            4.04e+04   4797.344      8.421      0.000     3.1e+04    4.98e+04\n",
       "condition      1.571e+04   5317.387      2.954      0.003    5280.918    2.61e+04\n",
       "grade          1.306e+05   4700.604     27.789      0.000    1.21e+05     1.4e+05\n",
       "sqft_above       33.7358      4.981      6.773      0.000      23.971      43.501\n",
       "sqft_basement    58.5722      5.840     10.030      0.000      47.123      70.021\n",
       "yr_built      -3666.8957    150.805    -24.316      0.000   -3962.551   -3371.241\n",
       "yr_renovated     17.7032      8.265      2.142      0.032       1.499      33.908\n",
       "sqft_living15    23.0114      7.561      3.044      0.002       8.188      37.834\n",
       "sqft_lot15       -0.2323      0.142     -1.637      0.102      -0.511       0.046\n",
       "==============================================================================\n",
       "Omnibus:                     2170.721   Durbin-Watson:                   2.011\n",
       "Prob(Omnibus):                  0.000   Jarque-Bera (JB):            38362.875\n",
       "Skew:                           1.971   Prob(JB):                         0.00\n",
       "Kurtosis:                      17.051   Cond. No.                     1.67e+17\n",
       "==============================================================================\n",
       "\n",
       "Notes:\n",
       "[1] Standard Errors assume that the covariance matrix of the errors is correctly specified.\n",
       "[2] The smallest eigenvalue is 5.83e-22. This might indicate that there are\n",
       "strong multicollinearity problems or that the design matrix is singular.\n",
       "\"\"\""
      ]
     },
     "execution_count": 23,
     "metadata": {},
     "output_type": "execute_result"
    }
   ],
   "source": [
    "q3_lm_out.summary()"
   ]
  },
  {
   "cell_type": "code",
   "execution_count": 29,
   "id": "c6f9a187-2d8a-4ddc-b5b3-1cb1419b2b4c",
   "metadata": {},
   "outputs": [
    {
     "data": {
      "text/plain": [
       "Intercept         1.204633e-96\n",
       "bedrooms          1.262643e-11\n",
       "bathrooms         5.681393e-13\n",
       "sqft_living       2.616896e-71\n",
       "sqft_lot          9.532159e-01\n",
       "floors            4.266372e-06\n",
       "waterfront        1.931929e-56\n",
       "view              5.028272e-17\n",
       "condition         3.157318e-03\n",
       "grade            1.760208e-156\n",
       "sqft_above        1.431357e-11\n",
       "sqft_basement     2.030036e-23\n",
       "yr_built         1.717539e-122\n",
       "yr_renovated      3.226128e-02\n",
       "sqft_living15     2.352216e-03\n",
       "sqft_lot15        1.017748e-01\n",
       "dtype: float64"
      ]
     },
     "execution_count": 29,
     "metadata": {},
     "output_type": "execute_result"
    }
   ],
   "source": [
    "q3_lm_out.pvalues"
   ]
  },
  {
   "cell_type": "code",
   "execution_count": 27,
   "id": "21eed324-44ce-4e21-9332-a8c346b82e41",
   "metadata": {},
   "outputs": [
    {
     "data": {
      "text/plain": [
       "Index(['Intercept', 'bedrooms', 'bathrooms', 'sqft_living', 'sqft_lot',\n",
       "       'floors', 'waterfront', 'view', 'condition', 'grade', 'sqft_above',\n",
       "       'sqft_basement', 'yr_built', 'yr_renovated', 'sqft_living15',\n",
       "       'sqft_lot15'],\n",
       "      dtype='object')"
      ]
     },
     "execution_count": 27,
     "metadata": {},
     "output_type": "execute_result"
    }
   ],
   "source": [
    "q3_lm_out.pvalues.index"
   ]
  },
  {
   "cell_type": "code",
   "execution_count": 30,
   "id": "fd23b20c-de51-4f51-862e-cb805c3d0326",
   "metadata": {},
   "outputs": [
    {
     "data": {
      "text/plain": [
       "Index(['Intercept', 'bedrooms', 'bathrooms', 'sqft_living', 'floors',\n",
       "       'waterfront', 'view', 'condition', 'grade', 'sqft_above',\n",
       "       'sqft_basement', 'yr_built', 'yr_renovated', 'sqft_living15'],\n",
       "      dtype='object')"
      ]
     },
     "execution_count": 30,
     "metadata": {},
     "output_type": "execute_result"
    }
   ],
   "source": [
    "q3_lm_out.pvalues.index[q3_lm_out.pvalues < 0.05]"
   ]
  },
  {
   "cell_type": "code",
   "execution_count": 31,
   "id": "86022c4c-2a53-4818-9a18-496ba049ddbe",
   "metadata": {},
   "outputs": [
    {
     "data": {
      "text/plain": [
       "Index(['bedrooms', 'bathrooms', 'sqft_living', 'floors', 'waterfront', 'view',\n",
       "       'condition', 'grade', 'sqft_above', 'sqft_basement', 'yr_built',\n",
       "       'yr_renovated', 'sqft_living15'],\n",
       "      dtype='object')"
      ]
     },
     "execution_count": 31,
     "metadata": {},
     "output_type": "execute_result"
    }
   ],
   "source": [
    "q3_out1=q3_lm_out.pvalues.index[q3_lm_out.pvalues < 0.05].drop('Intercept')\n",
    "q3_out1"
   ]
  },
  {
   "cell_type": "code",
   "execution_count": 32,
   "id": "779af300-2aed-45c2-9a22-ed536d8a96a9",
   "metadata": {},
   "outputs": [
    {
     "data": {
      "text/plain": [
       "13"
      ]
     },
     "execution_count": 32,
     "metadata": {},
     "output_type": "execute_result"
    }
   ],
   "source": [
    "len(q3_out1)"
   ]
  },
  {
   "cell_type": "code",
   "execution_count": 33,
   "id": "5e22f4bc-cb45-46bc-a2b6-a95bc10a82a9",
   "metadata": {},
   "outputs": [
    {
     "data": {
      "text/plain": [
       "Intercept        6.302495e+06\n",
       "bedrooms        -2.499553e+04\n",
       "bathrooms        5.179234e+04\n",
       "sqft_living      9.230805e+01\n",
       "sqft_lot         5.444844e-03\n",
       "floors           3.748199e+04\n",
       "waterfront       6.276528e+05\n",
       "view             4.039778e+04\n",
       "condition        1.570573e+04\n",
       "grade            1.306274e+05\n",
       "sqft_above       3.373578e+01\n",
       "sqft_basement    5.857224e+01\n",
       "yr_built        -3.666896e+03\n",
       "yr_renovated     1.770319e+01\n",
       "sqft_living15    2.301144e+01\n",
       "sqft_lot15      -2.322904e-01\n",
       "dtype: float64"
      ]
     },
     "execution_count": 33,
     "metadata": {},
     "output_type": "execute_result"
    }
   ],
   "source": [
    "# 상수와 회귀계수\n",
    "q3_lm_out.params"
   ]
  },
  {
   "cell_type": "code",
   "execution_count": 35,
   "id": "de2e48fa-4f42-4c59-b98d-128ed933e4f3",
   "metadata": {},
   "outputs": [
    {
     "data": {
      "text/plain": [
       "bedrooms         -24995.525070\n",
       "bathrooms         51792.344459\n",
       "sqft_living          92.308053\n",
       "floors            37481.990454\n",
       "waterfront       627652.843940\n",
       "view              40397.783242\n",
       "condition         15705.734137\n",
       "grade            130627.395937\n",
       "sqft_above           33.735785\n",
       "sqft_basement        58.572242\n",
       "yr_built          -3666.895673\n",
       "yr_renovated         17.703192\n",
       "sqft_living15        23.011443\n",
       "dtype: float64"
      ]
     },
     "execution_count": 35,
     "metadata": {},
     "output_type": "execute_result"
    }
   ],
   "source": [
    "q3_lm_out.params[q3_out1]"
   ]
  },
  {
   "cell_type": "code",
   "execution_count": 37,
   "id": "47b9bb06-fc95-4691-9a6c-2f2f5362e273",
   "metadata": {},
   "outputs": [
    {
     "data": {
      "text/plain": [
       "2"
      ]
     },
     "execution_count": 37,
     "metadata": {},
     "output_type": "execute_result"
    }
   ],
   "source": [
    "(q3_lm_out.params[q3_out1] < 0).sum()"
   ]
  },
  {
   "cell_type": "code",
   "execution_count": null,
   "id": "08c77c0c-f581-4513-95b2-f8ee5b376a41",
   "metadata": {},
   "outputs": [],
   "source": []
  }
 ],
 "metadata": {
  "kernelspec": {
   "display_name": "Python 3 (ipykernel)",
   "language": "python",
   "name": "python3"
  },
  "language_info": {
   "codemirror_mode": {
    "name": "ipython",
    "version": 3
   },
   "file_extension": ".py",
   "mimetype": "text/x-python",
   "name": "python",
   "nbconvert_exporter": "python",
   "pygments_lexer": "ipython3",
   "version": "3.12.7"
  }
 },
 "nbformat": 4,
 "nbformat_minor": 5
}
