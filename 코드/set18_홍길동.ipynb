{
 "cells": [
  {
   "cell_type": "markdown",
   "id": "64bd3572",
   "metadata": {},
   "source": [
    "# [ProDS Asso] Set3"
   ]
  },
  {
   "cell_type": "code",
   "execution_count": 5,
   "id": "cef98e5b",
   "metadata": {},
   "outputs": [
    {
     "data": {
      "text/plain": [
       "Date          int64\n",
       "Location     object\n",
       "PM10        float64\n",
       "PM25        float64\n",
       "O3          float64\n",
       "NO2         float64\n",
       "CO          float64\n",
       "SO2         float64\n",
       "Warning       int64\n",
       "dtype: object"
      ]
     },
     "execution_count": 5,
     "metadata": {},
     "output_type": "execute_result"
    }
   ],
   "source": [
    "import pandas as pd\n",
    "import numpy as np\n",
    "\n",
    "dat=pd.read_csv(\"dataset/Dataset_18.csv\")\n",
    "dat.dtypes"
   ]
  },
  {
   "cell_type": "code",
   "execution_count": 6,
   "id": "7e1d071f-74c0-498c-989c-c7ebaec15327",
   "metadata": {},
   "outputs": [
    {
     "data": {
      "text/html": [
       "<div>\n",
       "<style scoped>\n",
       "    .dataframe tbody tr th:only-of-type {\n",
       "        vertical-align: middle;\n",
       "    }\n",
       "\n",
       "    .dataframe tbody tr th {\n",
       "        vertical-align: top;\n",
       "    }\n",
       "\n",
       "    .dataframe thead th {\n",
       "        text-align: right;\n",
       "    }\n",
       "</style>\n",
       "<table border=\"1\" class=\"dataframe\">\n",
       "  <thead>\n",
       "    <tr style=\"text-align: right;\">\n",
       "      <th></th>\n",
       "      <th>Date</th>\n",
       "      <th>Location</th>\n",
       "      <th>PM10</th>\n",
       "      <th>PM25</th>\n",
       "      <th>O3</th>\n",
       "      <th>NO2</th>\n",
       "      <th>CO</th>\n",
       "      <th>SO2</th>\n",
       "      <th>Warning</th>\n",
       "    </tr>\n",
       "  </thead>\n",
       "  <tbody>\n",
       "    <tr>\n",
       "      <th>0</th>\n",
       "      <td>20210101</td>\n",
       "      <td>강남구</td>\n",
       "      <td>22.045455</td>\n",
       "      <td>16.272727</td>\n",
       "      <td>0.014727</td>\n",
       "      <td>0.027136</td>\n",
       "      <td>0.522727</td>\n",
       "      <td>0.003955</td>\n",
       "      <td>0</td>\n",
       "    </tr>\n",
       "    <tr>\n",
       "      <th>1</th>\n",
       "      <td>20210102</td>\n",
       "      <td>강남구</td>\n",
       "      <td>26.833333</td>\n",
       "      <td>11.833333</td>\n",
       "      <td>0.024875</td>\n",
       "      <td>0.015375</td>\n",
       "      <td>0.404167</td>\n",
       "      <td>0.003583</td>\n",
       "      <td>0</td>\n",
       "    </tr>\n",
       "    <tr>\n",
       "      <th>2</th>\n",
       "      <td>20210103</td>\n",
       "      <td>강남구</td>\n",
       "      <td>30.291667</td>\n",
       "      <td>13.750000</td>\n",
       "      <td>0.022000</td>\n",
       "      <td>0.018042</td>\n",
       "      <td>0.429167</td>\n",
       "      <td>0.003708</td>\n",
       "      <td>0</td>\n",
       "    </tr>\n",
       "  </tbody>\n",
       "</table>\n",
       "</div>"
      ],
      "text/plain": [
       "       Date Location       PM10       PM25        O3       NO2        CO  \\\n",
       "0  20210101      강남구  22.045455  16.272727  0.014727  0.027136  0.522727   \n",
       "1  20210102      강남구  26.833333  11.833333  0.024875  0.015375  0.404167   \n",
       "2  20210103      강남구  30.291667  13.750000  0.022000  0.018042  0.429167   \n",
       "\n",
       "        SO2  Warning  \n",
       "0  0.003955        0  \n",
       "1  0.003583        0  \n",
       "2  0.003708        0  "
      ]
     },
     "execution_count": 6,
     "metadata": {},
     "output_type": "execute_result"
    }
   ],
   "source": [
    "dat.head(3)"
   ]
  },
  {
   "cell_type": "markdown",
   "id": "9cfd2f9f",
   "metadata": {},
   "source": [
    "## Q1"
   ]
  },
  {
   "cell_type": "code",
   "execution_count": 2,
   "id": "1ec88f7e",
   "metadata": {},
   "outputs": [
    {
     "data": {
      "text/plain": [
       "'종로구'"
      ]
     },
     "execution_count": 2,
     "metadata": {},
     "output_type": "execute_result"
    }
   ],
   "source": [
    "q1=dat[dat.Date.astype('str').str.slice(4,6) == '03']\n",
    "\n",
    "q1_out=q1.groupby('Location')['PM10'].mean()\n",
    "\n",
    "q1_out.idxmax()\n",
    "\n",
    "# 답: 종로구"
   ]
  },
  {
   "cell_type": "markdown",
   "id": "0f92a16e",
   "metadata": {},
   "source": [
    "## Q2"
   ]
  },
  {
   "cell_type": "code",
   "execution_count": 3,
   "id": "87a51e63",
   "metadata": {},
   "outputs": [
    {
     "data": {
      "text/plain": [
       "3.11"
      ]
     },
     "execution_count": 3,
     "metadata": {},
     "output_type": "execute_result"
    }
   ],
   "source": [
    "q2=pd.crosstab(index=dat.Warning, columns=dat.Location)\n",
    "\n",
    "from scipy.stats import chi2_contingency\n",
    "\n",
    "\n",
    "q2_out=chi2_contingency(q2, correction=False)\n",
    "\n",
    "round(q2_out[0],2)\n",
    "\n",
    "# 답: 3.11"
   ]
  },
  {
   "cell_type": "markdown",
   "id": "91a1fb53",
   "metadata": {},
   "source": [
    "## Q3"
   ]
  },
  {
   "cell_type": "code",
   "execution_count": 4,
   "id": "cc6bd092",
   "metadata": {},
   "outputs": [
    {
     "data": {
      "text/plain": [
       "6"
      ]
     },
     "execution_count": 4,
     "metadata": {},
     "output_type": "execute_result"
    }
   ],
   "source": [
    "q3=pd.pivot_table(data=dat, \n",
    "                  index=\"Date\", \n",
    "                  values=[\"PM10\", \"PM25\", \"O3\", \"NO2\", \"CO\", \"SO2\"]).reset_index()\n",
    "\n",
    "\n",
    "q3['target']=np.where(((q3.PM10 > 30) | (q3.PM25 > 40)), 1, 0)\n",
    "\n",
    "\n",
    "q3['month']=q3.Date.astype('str').str.slice(4,6)\n",
    "train=q3[q3.month!=\"07\"]\n",
    "test=q3[q3.month==\"07\"]\n",
    "\n",
    "from sklearn.tree import DecisionTreeClassifier\n",
    "\n",
    "var_list=[\"O3\", \"NO2\", \"CO\", \"SO2\"]\n",
    "dt=DecisionTreeClassifier(random_state=123)\n",
    "dt.fit(train[var_list], train.target)\n",
    "q3_pred=dt.predict(test[var_list])\n",
    "\n",
    "q3_out=sum((test.target==1)&(q3_pred==1))\n",
    "q3_out\n",
    "# 답: 6"
   ]
  },
  {
   "cell_type": "code",
   "execution_count": null,
   "id": "e37e04dc",
   "metadata": {},
   "outputs": [],
   "source": []
  }
 ],
 "metadata": {
  "kernelspec": {
   "display_name": "Python 3 (ipykernel)",
   "language": "python",
   "name": "python3"
  },
  "language_info": {
   "codemirror_mode": {
    "name": "ipython",
    "version": 3
   },
   "file_extension": ".py",
   "mimetype": "text/x-python",
   "name": "python",
   "nbconvert_exporter": "python",
   "pygments_lexer": "ipython3",
   "version": "3.12.7"
  }
 },
 "nbformat": 4,
 "nbformat_minor": 5
}
